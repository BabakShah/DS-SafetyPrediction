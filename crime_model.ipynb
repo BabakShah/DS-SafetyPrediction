{
 "cells": [
  {
   "cell_type": "markdown",
   "metadata": {},
   "source": [
    "## 0. Import the Libraries"
   ]
  },
  {
   "cell_type": "code",
   "execution_count": 1,
   "metadata": {},
   "outputs": [
    {
     "name": "stderr",
     "output_type": "stream",
     "text": [
      "/Users/babak/anaconda3/lib/python3.6/site-packages/sklearn/cross_validation.py:41: DeprecationWarning:\n",
      "\n",
      "This module was deprecated in version 0.18 in favor of the model_selection module into which all the refactored classes and functions are moved. Also note that the interface of the new CV iterators are different from that of this module. This module will be removed in 0.20.\n",
      "\n"
     ]
    }
   ],
   "source": [
    "import pickle\n",
    "import plotly\n",
    "import plotly.plotly as py\n",
    "import plotly.tools as tls\n",
    "from plotly.graph_objs import *\n",
    "from datetime import datetime\n",
    "from collections import Counter\n",
    "import itertools\n",
    "import numpy as np\n",
    "import pandas as pd\n",
    "import dask.dataframe as dd\n",
    "import matplotlib.pyplot as plt\n",
    "import matplotlib.ticker as ticker\n",
    "import seaborn as sns\n",
    "import os\n",
    "\n",
    "from sklearn.model_selection import GridSearchCV\n",
    "from sklearn import datasets, metrics\n",
    "from sklearn.cross_validation import train_test_split\n",
    "from sklearn.preprocessing import StandardScaler\n",
    "from sklearn.datasets import make_moons, make_circles, make_classification\n",
    "from sklearn.neighbors import KNeighborsClassifier\n",
    "from sklearn.svm import SVC\n",
    "from sklearn.tree import DecisionTreeClassifier\n",
    "from sklearn.ensemble import RandomForestClassifier, AdaBoostClassifier\n",
    "from sklearn.naive_bayes import GaussianNB\n",
    "from sklearn.discriminant_analysis import LinearDiscriminantAnalysis as LDA\n",
    "from sklearn.discriminant_analysis import QuadraticDiscriminantAnalysis as QDA\n",
    "from sklearn.preprocessing import LabelEncoder\n",
    "from sklearn.linear_model import LogisticRegression\n",
    "from sklearn.feature_extraction import DictVectorizer\n",
    "from imblearn.combine import SMOTEENN\n",
    "\n",
    "# plotly.tools.set_credentials_file(username='', api_key='')"
   ]
  },
  {
   "cell_type": "code",
   "execution_count": null,
   "metadata": {
    "collapsed": true
   },
   "outputs": [],
   "source": []
  },
  {
   "cell_type": "markdown",
   "metadata": {},
   "source": [
    "## 1. Download, Load and Prepare Data"
   ]
  },
  {
   "cell_type": "markdown",
   "metadata": {},
   "source": [
    "### Download and merge dataset"
   ]
  },
  {
   "cell_type": "code",
   "execution_count": 44,
   "metadata": {
    "collapsed": true
   },
   "outputs": [],
   "source": [
    "df_17 = pd.read_csv(\"Crimes_-_2017.csv\")"
   ]
  },
  {
   "cell_type": "code",
   "execution_count": 45,
   "metadata": {
    "collapsed": true
   },
   "outputs": [],
   "source": [
    "df_18 = pd.read_csv(\"Crimes_-_2018.csv\")"
   ]
  },
  {
   "cell_type": "code",
   "execution_count": 46,
   "metadata": {
    "collapsed": true
   },
   "outputs": [],
   "source": [
    "df_17_n_18= df_17.append(df_18, ignore_index=True)"
   ]
  },
  {
   "cell_type": "code",
   "execution_count": 118,
   "metadata": {},
   "outputs": [
    {
     "data": {
      "text/plain": [
       "Index(['ID', 'Case Number', 'Date', 'Block', 'IUCR', 'Primary Type',\n",
       "       'Description', 'Location Description', 'Arrest', 'Domestic', 'Beat',\n",
       "       'District', 'Ward', 'Community Area', 'FBI Code', 'X Coordinate',\n",
       "       'Y Coordinate', 'Year', 'Updated On', 'Latitude', 'Longitude',\n",
       "       'Location'],\n",
       "      dtype='object')"
      ]
     },
     "execution_count": 118,
     "metadata": {},
     "output_type": "execute_result"
    }
   ],
   "source": [
    "df_17_n_18.columns"
   ]
  },
  {
   "cell_type": "code",
   "execution_count": 52,
   "metadata": {
    "collapsed": true
   },
   "outputs": [],
   "source": [
    "selected_columns = ['Date', 'Latitude', 'Longitude', 'Arrest']\n",
    "df = df_17_n_18[selected_columns]"
   ]
  },
  {
   "cell_type": "code",
   "execution_count": 55,
   "metadata": {},
   "outputs": [
    {
     "data": {
      "text/html": [
       "<div>\n",
       "<style scoped>\n",
       "    .dataframe tbody tr th:only-of-type {\n",
       "        vertical-align: middle;\n",
       "    }\n",
       "\n",
       "    .dataframe tbody tr th {\n",
       "        vertical-align: top;\n",
       "    }\n",
       "\n",
       "    .dataframe thead th {\n",
       "        text-align: right;\n",
       "    }\n",
       "</style>\n",
       "<table border=\"1\" class=\"dataframe\">\n",
       "  <thead>\n",
       "    <tr style=\"text-align: right;\">\n",
       "      <th></th>\n",
       "      <th>Date</th>\n",
       "      <th>Latitude</th>\n",
       "      <th>Longitude</th>\n",
       "      <th>Arrest</th>\n",
       "    </tr>\n",
       "  </thead>\n",
       "  <tbody>\n",
       "    <tr>\n",
       "      <th>0</th>\n",
       "      <td>09/21/2017 12:15:00 AM</td>\n",
       "      <td>42.012293</td>\n",
       "      <td>-87.699714</td>\n",
       "      <td>True</td>\n",
       "    </tr>\n",
       "    <tr>\n",
       "      <th>1</th>\n",
       "      <td>10/12/2017 07:14:00 PM</td>\n",
       "      <td>41.918712</td>\n",
       "      <td>-87.765511</td>\n",
       "      <td>True</td>\n",
       "    </tr>\n",
       "    <tr>\n",
       "      <th>2</th>\n",
       "      <td>10/30/2017 11:52:00 AM</td>\n",
       "      <td>41.814670</td>\n",
       "      <td>-87.690727</td>\n",
       "      <td>True</td>\n",
       "    </tr>\n",
       "    <tr>\n",
       "      <th>3</th>\n",
       "      <td>09/29/2017 06:45:00 PM</td>\n",
       "      <td>41.938581</td>\n",
       "      <td>-87.765831</td>\n",
       "      <td>True</td>\n",
       "    </tr>\n",
       "    <tr>\n",
       "      <th>4</th>\n",
       "      <td>12/01/2017 06:20:00 AM</td>\n",
       "      <td>41.895805</td>\n",
       "      <td>-87.683159</td>\n",
       "      <td>True</td>\n",
       "    </tr>\n",
       "  </tbody>\n",
       "</table>\n",
       "</div>"
      ],
      "text/plain": [
       "                     Date   Latitude  Longitude  Arrest\n",
       "0  09/21/2017 12:15:00 AM  42.012293 -87.699714    True\n",
       "1  10/12/2017 07:14:00 PM  41.918712 -87.765511    True\n",
       "2  10/30/2017 11:52:00 AM  41.814670 -87.690727    True\n",
       "3  09/29/2017 06:45:00 PM  41.938581 -87.765831    True\n",
       "4  12/01/2017 06:20:00 AM  41.895805 -87.683159    True"
      ]
     },
     "execution_count": 55,
     "metadata": {},
     "output_type": "execute_result"
    }
   ],
   "source": [
    "df.head()"
   ]
  },
  {
   "cell_type": "code",
   "execution_count": 56,
   "metadata": {},
   "outputs": [
    {
     "name": "stdout",
     "output_type": "stream",
     "text": [
      "350,205 total crime records\n"
     ]
    }
   ],
   "source": [
    "print(\"{:,} total crime records\".format(len(df)))"
   ]
  },
  {
   "cell_type": "markdown",
   "metadata": {},
   "source": [
    "### Drop the duplicates"
   ]
  },
  {
   "cell_type": "code",
   "execution_count": 57,
   "metadata": {},
   "outputs": [
    {
     "name": "stdout",
     "output_type": "stream",
     "text": [
      "347,192 total crime records after removing duplicates\n"
     ]
    }
   ],
   "source": [
    "df = df.drop_duplicates()\n",
    "print(\"{:,} total crime records after removing duplicates\".format(len(df)))"
   ]
  },
  {
   "cell_type": "markdown",
   "metadata": {},
   "source": [
    "### Break up date into components"
   ]
  },
  {
   "cell_type": "code",
   "execution_count": 58,
   "metadata": {
    "collapsed": true
   },
   "outputs": [],
   "source": [
    "def break_up_date(str_date):\n",
    "    date_format = '%m/%d/%Y %I:%M:%S %p'\n",
    "    date = datetime.strptime(str_date, date_format)\n",
    "    return date\n",
    "\n",
    "years = []\n",
    "months = []\n",
    "days = []\n",
    "hours = []\n",
    "minutes = []\n",
    "for date in map(break_up_date,df['Date']):\n",
    "    years.append(date.year)\n",
    "    months.append(date.month)\n",
    "    days.append(date.day)\n",
    "    hours.append(date.hour)\n",
    "    minutes.append(date.minute)\n",
    "df['Year'] = years\n",
    "df['Month'] = months\n",
    "df['Day'] =  days\n",
    "df['Hour'] = hours\n",
    "df['Minute'] = minutes"
   ]
  },
  {
   "cell_type": "code",
   "execution_count": 59,
   "metadata": {
    "collapsed": true
   },
   "outputs": [],
   "source": [
    "df.drop('Date',axis=1,inplace=True)"
   ]
  },
  {
   "cell_type": "markdown",
   "metadata": {},
   "source": [
    "### Drop NA values"
   ]
  },
  {
   "cell_type": "code",
   "execution_count": 60,
   "metadata": {},
   "outputs": [
    {
     "name": "stdout",
     "output_type": "stream",
     "text": [
      "345,037 total crime records after removing NAs\n"
     ]
    }
   ],
   "source": [
    "df.dropna(axis=0,how='any', inplace=True)\n",
    "print(\"{:,} total crime records after removing NAs\".format(len(df)))"
   ]
  },
  {
   "cell_type": "code",
   "execution_count": 61,
   "metadata": {},
   "outputs": [
    {
     "data": {
      "text/html": [
       "<div>\n",
       "<style scoped>\n",
       "    .dataframe tbody tr th:only-of-type {\n",
       "        vertical-align: middle;\n",
       "    }\n",
       "\n",
       "    .dataframe tbody tr th {\n",
       "        vertical-align: top;\n",
       "    }\n",
       "\n",
       "    .dataframe thead th {\n",
       "        text-align: right;\n",
       "    }\n",
       "</style>\n",
       "<table border=\"1\" class=\"dataframe\">\n",
       "  <thead>\n",
       "    <tr style=\"text-align: right;\">\n",
       "      <th></th>\n",
       "      <th>Latitude</th>\n",
       "      <th>Longitude</th>\n",
       "      <th>Arrest</th>\n",
       "      <th>Year</th>\n",
       "      <th>Month</th>\n",
       "      <th>Day</th>\n",
       "      <th>Hour</th>\n",
       "      <th>Minute</th>\n",
       "    </tr>\n",
       "  </thead>\n",
       "  <tbody>\n",
       "    <tr>\n",
       "      <th>0</th>\n",
       "      <td>42.012293</td>\n",
       "      <td>-87.699714</td>\n",
       "      <td>True</td>\n",
       "      <td>2017</td>\n",
       "      <td>9</td>\n",
       "      <td>21</td>\n",
       "      <td>0</td>\n",
       "      <td>15</td>\n",
       "    </tr>\n",
       "    <tr>\n",
       "      <th>1</th>\n",
       "      <td>41.918712</td>\n",
       "      <td>-87.765511</td>\n",
       "      <td>True</td>\n",
       "      <td>2017</td>\n",
       "      <td>10</td>\n",
       "      <td>12</td>\n",
       "      <td>19</td>\n",
       "      <td>14</td>\n",
       "    </tr>\n",
       "    <tr>\n",
       "      <th>2</th>\n",
       "      <td>41.814670</td>\n",
       "      <td>-87.690727</td>\n",
       "      <td>True</td>\n",
       "      <td>2017</td>\n",
       "      <td>10</td>\n",
       "      <td>30</td>\n",
       "      <td>11</td>\n",
       "      <td>52</td>\n",
       "    </tr>\n",
       "    <tr>\n",
       "      <th>3</th>\n",
       "      <td>41.938581</td>\n",
       "      <td>-87.765831</td>\n",
       "      <td>True</td>\n",
       "      <td>2017</td>\n",
       "      <td>9</td>\n",
       "      <td>29</td>\n",
       "      <td>18</td>\n",
       "      <td>45</td>\n",
       "    </tr>\n",
       "    <tr>\n",
       "      <th>4</th>\n",
       "      <td>41.895805</td>\n",
       "      <td>-87.683159</td>\n",
       "      <td>True</td>\n",
       "      <td>2017</td>\n",
       "      <td>12</td>\n",
       "      <td>1</td>\n",
       "      <td>6</td>\n",
       "      <td>20</td>\n",
       "    </tr>\n",
       "  </tbody>\n",
       "</table>\n",
       "</div>"
      ],
      "text/plain": [
       "    Latitude  Longitude  Arrest  Year  Month  Day  Hour  Minute\n",
       "0  42.012293 -87.699714    True  2017      9   21     0      15\n",
       "1  41.918712 -87.765511    True  2017     10   12    19      14\n",
       "2  41.814670 -87.690727    True  2017     10   30    11      52\n",
       "3  41.938581 -87.765831    True  2017      9   29    18      45\n",
       "4  41.895805 -87.683159    True  2017     12    1     6      20"
      ]
     },
     "execution_count": 61,
     "metadata": {},
     "output_type": "execute_result"
    }
   ],
   "source": [
    "df.head()"
   ]
  },
  {
   "cell_type": "code",
   "execution_count": 109,
   "metadata": {},
   "outputs": [
    {
     "data": {
      "text/html": [
       "<div>\n",
       "<style scoped>\n",
       "    .dataframe tbody tr th:only-of-type {\n",
       "        vertical-align: middle;\n",
       "    }\n",
       "\n",
       "    .dataframe tbody tr th {\n",
       "        vertical-align: top;\n",
       "    }\n",
       "\n",
       "    .dataframe thead th {\n",
       "        text-align: right;\n",
       "    }\n",
       "</style>\n",
       "<table border=\"1\" class=\"dataframe\">\n",
       "  <thead>\n",
       "    <tr style=\"text-align: right;\">\n",
       "      <th></th>\n",
       "      <th>count</th>\n",
       "      <th>mean</th>\n",
       "      <th>std</th>\n",
       "      <th>min</th>\n",
       "      <th>25%</th>\n",
       "      <th>50%</th>\n",
       "      <th>75%</th>\n",
       "      <th>max</th>\n",
       "    </tr>\n",
       "  </thead>\n",
       "  <tbody>\n",
       "    <tr>\n",
       "      <th>Latitude</th>\n",
       "      <td>345037.0</td>\n",
       "      <td>41.844300</td>\n",
       "      <td>0.086064</td>\n",
       "      <td>41.644606</td>\n",
       "      <td>41.769453</td>\n",
       "      <td>41.865147</td>\n",
       "      <td>41.906230</td>\n",
       "      <td>42.022671</td>\n",
       "    </tr>\n",
       "    <tr>\n",
       "      <th>Longitude</th>\n",
       "      <td>345037.0</td>\n",
       "      <td>-87.670364</td>\n",
       "      <td>0.058767</td>\n",
       "      <td>-87.934273</td>\n",
       "      <td>-87.712608</td>\n",
       "      <td>-87.664047</td>\n",
       "      <td>-87.627761</td>\n",
       "      <td>-87.524529</td>\n",
       "    </tr>\n",
       "    <tr>\n",
       "      <th>Year</th>\n",
       "      <td>345037.0</td>\n",
       "      <td>2017.237664</td>\n",
       "      <td>0.425653</td>\n",
       "      <td>2017.000000</td>\n",
       "      <td>2017.000000</td>\n",
       "      <td>2017.000000</td>\n",
       "      <td>2017.000000</td>\n",
       "      <td>2018.000000</td>\n",
       "    </tr>\n",
       "    <tr>\n",
       "      <th>Month</th>\n",
       "      <td>345037.0</td>\n",
       "      <td>5.628976</td>\n",
       "      <td>3.424839</td>\n",
       "      <td>1.000000</td>\n",
       "      <td>3.000000</td>\n",
       "      <td>5.000000</td>\n",
       "      <td>8.000000</td>\n",
       "      <td>12.000000</td>\n",
       "    </tr>\n",
       "    <tr>\n",
       "      <th>Day</th>\n",
       "      <td>345037.0</td>\n",
       "      <td>15.524660</td>\n",
       "      <td>8.839743</td>\n",
       "      <td>1.000000</td>\n",
       "      <td>8.000000</td>\n",
       "      <td>16.000000</td>\n",
       "      <td>23.000000</td>\n",
       "      <td>31.000000</td>\n",
       "    </tr>\n",
       "    <tr>\n",
       "      <th>Hour</th>\n",
       "      <td>345037.0</td>\n",
       "      <td>13.197715</td>\n",
       "      <td>6.476026</td>\n",
       "      <td>0.000000</td>\n",
       "      <td>9.000000</td>\n",
       "      <td>14.000000</td>\n",
       "      <td>18.000000</td>\n",
       "      <td>23.000000</td>\n",
       "    </tr>\n",
       "    <tr>\n",
       "      <th>Minute</th>\n",
       "      <td>345037.0</td>\n",
       "      <td>19.880923</td>\n",
       "      <td>18.540425</td>\n",
       "      <td>0.000000</td>\n",
       "      <td>0.000000</td>\n",
       "      <td>18.000000</td>\n",
       "      <td>32.000000</td>\n",
       "      <td>59.000000</td>\n",
       "    </tr>\n",
       "  </tbody>\n",
       "</table>\n",
       "</div>"
      ],
      "text/plain": [
       "              count         mean        std          min          25%  \\\n",
       "Latitude   345037.0    41.844300   0.086064    41.644606    41.769453   \n",
       "Longitude  345037.0   -87.670364   0.058767   -87.934273   -87.712608   \n",
       "Year       345037.0  2017.237664   0.425653  2017.000000  2017.000000   \n",
       "Month      345037.0     5.628976   3.424839     1.000000     3.000000   \n",
       "Day        345037.0    15.524660   8.839743     1.000000     8.000000   \n",
       "Hour       345037.0    13.197715   6.476026     0.000000     9.000000   \n",
       "Minute     345037.0    19.880923  18.540425     0.000000     0.000000   \n",
       "\n",
       "                   50%          75%          max  \n",
       "Latitude     41.865147    41.906230    42.022671  \n",
       "Longitude   -87.664047   -87.627761   -87.524529  \n",
       "Year       2017.000000  2017.000000  2018.000000  \n",
       "Month         5.000000     8.000000    12.000000  \n",
       "Day          16.000000    23.000000    31.000000  \n",
       "Hour         14.000000    18.000000    23.000000  \n",
       "Minute       18.000000    32.000000    59.000000  "
      ]
     },
     "execution_count": 109,
     "metadata": {},
     "output_type": "execute_result"
    }
   ],
   "source": [
    "df.describe().transpose()"
   ]
  },
  {
   "cell_type": "code",
   "execution_count": 71,
   "metadata": {
    "scrolled": true
   },
   "outputs": [
    {
     "data": {
      "text/plain": [
       "<Figure size 3000x2000 with 0 Axes>"
      ]
     },
     "metadata": {},
     "output_type": "display_data"
    },
    {
     "data": {
      "image/png": "[encoded data removed]",
      "text/plain": [
       "<Figure size 278.125x216 with 1 Axes>"
      ]
     },
     "metadata": {},
     "output_type": "display_data"
    }
   ],
   "source": [
    "plt.figure(dpi=500)\n",
    "sns.FacetGrid(df, hue=\"Arrest\",hue_kws=dict(marker=[\"o\", \".\"])).map(plt.scatter,\"Longitude\",\"Latitude\").add_legend()\n",
    "plt.show()"
   ]
  },
  {
   "cell_type": "markdown",
   "metadata": {},
   "source": [
    "### Convert df data to array type"
   ]
  },
  {
   "cell_type": "code",
   "execution_count": 72,
   "metadata": {},
   "outputs": [
    {
     "name": "stderr",
     "output_type": "stream",
     "text": [
      "/Users/babak/anaconda3/envs/carnd-term1/lib/python3.5/site-packages/sklearn/preprocessing/label.py:95: DataConversionWarning: A column-vector y was passed when a 1d array was expected. Please change the shape of y to (n_samples, ), for example using ravel().\n",
      "  y = column_or_1d(y, warn=True)\n",
      "/Users/babak/anaconda3/envs/carnd-term1/lib/python3.5/site-packages/sklearn/preprocessing/label.py:128: DataConversionWarning: A column-vector y was passed when a 1d array was expected. Please change the shape of y to (n_samples, ), for example using ravel().\n",
      "  y = column_or_1d(y, warn=True)\n"
     ]
    }
   ],
   "source": [
    "y = np.asarray(df[['Arrest']])\n",
    "le = LabelEncoder()\n",
    "le.fit(y)\n",
    "y = le.transform(y)\n",
    "\n",
    "X = df[['Latitude','Longitude','Month','Day','Hour','Minute']]\n",
    "X = X.to_dict(orient='records')\n",
    "vec = DictVectorizer()\n",
    "X = vec.fit_transform(X).toarray()"
   ]
  },
  {
   "cell_type": "markdown",
   "metadata": {},
   "source": [
    "### Balancing data"
   ]
  },
  {
   "cell_type": "code",
   "execution_count": 73,
   "metadata": {},
   "outputs": [
    {
     "name": "stdout",
     "output_type": "stream",
     "text": [
      "Count of each target from unbalanced dataset: [(0, 276961), (1, 68076)] (arrest true (1) or false (0))\n",
      "Count of each target from balanced dataset: [(0, 152402), (1, 177501)] (arrest true (1) or false (0))\n"
     ]
    }
   ],
   "source": [
    "print(\"Count of each target from unbalanced dataset: {} (arrest true (1) or false (0))\".format(sorted(Counter(y).items())))\n",
    "smote_enn = SMOTEENN(random_state=0)\n",
    "X_resampled, y_resampled = smote_enn.fit_sample(X, y)\n",
    "print(\"Count of each target from balanced dataset: {} (arrest true (1) or false (0))\".format(sorted(Counter(y_resampled).items())))"
   ]
  },
  {
   "cell_type": "markdown",
   "metadata": {},
   "source": [
    "### Split data into train and test set"
   ]
  },
  {
   "cell_type": "code",
   "execution_count": 74,
   "metadata": {
    "collapsed": true
   },
   "outputs": [],
   "source": [
    "X_train, X_test, y_train, y_test = train_test_split(X_resampled, y_resampled, test_size=.2, random_state=42)"
   ]
  },
  {
   "cell_type": "markdown",
   "metadata": {},
   "source": [
    "### Normalize the input features"
   ]
  },
  {
   "cell_type": "code",
   "execution_count": 75,
   "metadata": {
    "collapsed": true
   },
   "outputs": [],
   "source": [
    "scaler = StandardScaler()\n",
    "X_train2 = scaler.fit_transform(X_train)\n",
    "X_test2 = scaler.transform(X_test)"
   ]
  },
  {
   "cell_type": "markdown",
   "metadata": {},
   "source": [
    "## 2. Grid Search Modeling, Prediction and Evaluation"
   ]
  },
  {
   "cell_type": "markdown",
   "metadata": {},
   "source": [
    "### Logistic Regression"
   ]
  },
  {
   "cell_type": "code",
   "execution_count": 70,
   "metadata": {
    "collapsed": true
   },
   "outputs": [],
   "source": [
    "parameters = { \n",
    "    'C': np.power(10.0, np.arange(-10, 10)),\n",
    "    'solver': ['newton-cg','lbfgs','saga'],\n",
    "    'class_weight' : ['balanced','dict']\n",
    "}\n",
    "lr = LogisticRegression();\n",
    "grid_lr = GridSearchCV(estimator=lr,param_grid=parameters, verbose=0);\n",
    "grid_lr.fit(X_train, y_train);"
   ]
  },
  {
   "cell_type": "code",
   "execution_count": 71,
   "metadata": {},
   "outputs": [
    {
     "name": "stdout",
     "output_type": "stream",
     "text": [
      "{'C': 1e-05, 'solver': 'saga', 'class_weight': 'dict'}\n",
      "0.71687847166966\n",
      "LogisticRegression(C=1e-05, class_weight='dict', dual=False,\n",
      "          fit_intercept=True, intercept_scaling=1, max_iter=100,\n",
      "          multi_class='ovr', n_jobs=1, penalty='l2', random_state=None,\n",
      "          solver='saga', tol=0.0001, verbose=0, warm_start=False)\n"
     ]
    }
   ],
   "source": [
    "print(grid_lr.best_params_)\n",
    "print(grid_lr.best_score_)\n",
    "print(grid_lr.best_estimator_)\n",
    "# print(grid_lr.feature_importances_)"
   ]
  },
  {
   "cell_type": "markdown",
   "metadata": {},
   "source": [
    "{'C': 1e-05, 'solver': 'saga', 'class_weight': 'dict'}\n",
    "0.71687847166966\n",
    "LogisticRegression(C=1e-05, class_weight='dict', dual=False,\n",
    "          fit_intercept=True, intercept_scaling=1, max_iter=100,\n",
    "          multi_class='ovr', n_jobs=1, penalty='l2', random_state=None,\n",
    "          solver='saga', tol=0.0001, verbose=0, warm_start=False)"
   ]
  },
  {
   "cell_type": "code",
   "execution_count": 72,
   "metadata": {
    "collapsed": true
   },
   "outputs": [],
   "source": [
    "grid_lr.best_estimator_.fit(X_train, y_train);"
   ]
  },
  {
   "cell_type": "code",
   "execution_count": 92,
   "metadata": {},
   "outputs": [
    {
     "name": "stdout",
     "output_type": "stream",
     "text": [
      "1.76 s ± 112 ms per loop (mean ± std. dev. of 7 runs, 1 loop each)\n"
     ]
    }
   ],
   "source": [
    "%%timeit\n",
    "lr = LogisticRegression(C=1e-05, class_weight='dict', dual=False,\n",
    "          fit_intercept=True, intercept_scaling=1, max_iter=100,\n",
    "          multi_class='ovr', n_jobs=1, penalty='l2', random_state=None,\n",
    "          solver='saga', tol=0.0001, verbose=0, warm_start=False);\n",
    "lr.fit(X_train2,y_train)"
   ]
  },
  {
   "cell_type": "code",
   "execution_count": 91,
   "metadata": {},
   "outputs": [
    {
     "name": "stdout",
     "output_type": "stream",
     "text": [
      "Accuracy=0.5388217820281597\n",
      "Classification report for classifier Logistic Regression:\n",
      "             precision    recall  f1-score   support\n",
      "\n",
      "          0       0.00      0.00      0.00     30429\n",
      "          1       0.54      1.00      0.70     35552\n",
      "\n",
      "avg / total       0.29      0.54      0.38     65981\n",
      "\n",
      "\n",
      "Confusion matrix:\n",
      "[[    0 30429]\n",
      " [    0 35552]]\n",
      "Accuracy=0.5388217820281597\n",
      "Classification report for classifier Logistic Regression:\n",
      "             precision    recall  f1-score   support\n",
      "\n",
      "          0       0.00      0.00      0.00     30429\n",
      "          1       0.54      1.00      0.70     35552\n",
      "\n",
      "avg / total       0.29      0.54      0.38     65981\n",
      "\n",
      "\n",
      "Confusion matrix:\n",
      "[[    0 30429]\n",
      " [    0 35552]]\n",
      "Accuracy=0.5388217820281597\n",
      "Classification report for classifier Logistic Regression:\n",
      "             precision    recall  f1-score   support\n",
      "\n",
      "          0       0.00      0.00      0.00     30429\n",
      "          1       0.54      1.00      0.70     35552\n",
      "\n",
      "avg / total       0.29      0.54      0.38     65981\n",
      "\n",
      "\n",
      "Confusion matrix:\n",
      "[[    0 30429]\n",
      " [    0 35552]]\n"
     ]
    },
    {
     "name": "stderr",
     "output_type": "stream",
     "text": [
      "/Users/babak/anaconda3/envs/carnd-term1/lib/python3.5/site-packages/sklearn/metrics/classification.py:1135: UndefinedMetricWarning: Precision and F-score are ill-defined and being set to 0.0 in labels with no predicted samples.\n",
      "  'precision', 'predicted', average, warn_for)\n"
     ]
    },
    {
     "name": "stdout",
     "output_type": "stream",
     "text": [
      "Accuracy=0.5388217820281597\n",
      "Classification report for classifier Logistic Regression:\n",
      "             precision    recall  f1-score   support\n",
      "\n",
      "          0       0.00      0.00      0.00     30429\n",
      "          1       0.54      1.00      0.70     35552\n",
      "\n",
      "avg / total       0.29      0.54      0.38     65981\n",
      "\n",
      "\n",
      "Confusion matrix:\n",
      "[[    0 30429]\n",
      " [    0 35552]]\n",
      "Accuracy=0.5388217820281597\n",
      "Classification report for classifier Logistic Regression:\n",
      "             precision    recall  f1-score   support\n",
      "\n",
      "          0       0.00      0.00      0.00     30429\n",
      "          1       0.54      1.00      0.70     35552\n",
      "\n",
      "avg / total       0.29      0.54      0.38     65981\n",
      "\n",
      "\n",
      "Confusion matrix:\n",
      "[[    0 30429]\n",
      " [    0 35552]]\n",
      "Accuracy=0.5388217820281597\n",
      "Classification report for classifier Logistic Regression:\n",
      "             precision    recall  f1-score   support\n",
      "\n",
      "          0       0.00      0.00      0.00     30429\n",
      "          1       0.54      1.00      0.70     35552\n",
      "\n",
      "avg / total       0.29      0.54      0.38     65981\n",
      "\n",
      "\n",
      "Confusion matrix:\n",
      "[[    0 30429]\n",
      " [    0 35552]]\n",
      "Accuracy=0.5388217820281597\n",
      "Classification report for classifier Logistic Regression:\n",
      "             precision    recall  f1-score   support\n",
      "\n",
      "          0       0.00      0.00      0.00     30429\n",
      "          1       0.54      1.00      0.70     35552\n",
      "\n",
      "avg / total       0.29      0.54      0.38     65981\n",
      "\n",
      "\n",
      "Confusion matrix:\n",
      "[[    0 30429]\n",
      " [    0 35552]]\n",
      "Accuracy=0.5388217820281597\n",
      "Classification report for classifier Logistic Regression:\n",
      "             precision    recall  f1-score   support\n",
      "\n",
      "          0       0.00      0.00      0.00     30429\n",
      "          1       0.54      1.00      0.70     35552\n",
      "\n",
      "avg / total       0.29      0.54      0.38     65981\n",
      "\n",
      "\n",
      "Confusion matrix:\n",
      "[[    0 30429]\n",
      " [    0 35552]]\n",
      "Accuracy=0.5388217820281597\n",
      "Classification report for classifier Logistic Regression:\n",
      "             precision    recall  f1-score   support\n",
      "\n",
      "          0       0.00      0.00      0.00     30429\n",
      "          1       0.54      1.00      0.70     35552\n",
      "\n",
      "avg / total       0.29      0.54      0.38     65981\n",
      "\n",
      "\n",
      "Confusion matrix:\n",
      "[[    0 30429]\n",
      " [    0 35552]]\n",
      "Accuracy=0.5388217820281597\n",
      "Classification report for classifier Logistic Regression:\n",
      "             precision    recall  f1-score   support\n",
      "\n",
      "          0       0.00      0.00      0.00     30429\n",
      "          1       0.54      1.00      0.70     35552\n",
      "\n",
      "avg / total       0.29      0.54      0.38     65981\n",
      "\n",
      "\n",
      "Confusion matrix:\n",
      "[[    0 30429]\n",
      " [    0 35552]]\n",
      "Accuracy=0.5388217820281597\n",
      "Classification report for classifier Logistic Regression:\n",
      "             precision    recall  f1-score   support\n",
      "\n",
      "          0       0.00      0.00      0.00     30429\n",
      "          1       0.54      1.00      0.70     35552\n",
      "\n",
      "avg / total       0.29      0.54      0.38     65981\n",
      "\n",
      "\n",
      "Confusion matrix:\n",
      "[[    0 30429]\n",
      " [    0 35552]]\n",
      "Accuracy=0.5388217820281597\n",
      "Classification report for classifier Logistic Regression:\n",
      "             precision    recall  f1-score   support\n",
      "\n",
      "          0       0.00      0.00      0.00     30429\n",
      "          1       0.54      1.00      0.70     35552\n",
      "\n",
      "avg / total       0.29      0.54      0.38     65981\n",
      "\n",
      "\n",
      "Confusion matrix:\n",
      "[[    0 30429]\n",
      " [    0 35552]]\n",
      "Accuracy=0.5388217820281597\n",
      "Classification report for classifier Logistic Regression:\n",
      "             precision    recall  f1-score   support\n",
      "\n",
      "          0       0.00      0.00      0.00     30429\n",
      "          1       0.54      1.00      0.70     35552\n",
      "\n",
      "avg / total       0.29      0.54      0.38     65981\n",
      "\n",
      "\n",
      "Confusion matrix:\n",
      "[[    0 30429]\n",
      " [    0 35552]]\n",
      "Accuracy=0.5388217820281597\n",
      "Classification report for classifier Logistic Regression:\n",
      "             precision    recall  f1-score   support\n",
      "\n",
      "          0       0.00      0.00      0.00     30429\n",
      "          1       0.54      1.00      0.70     35552\n",
      "\n",
      "avg / total       0.29      0.54      0.38     65981\n",
      "\n",
      "\n",
      "Confusion matrix:\n",
      "[[    0 30429]\n",
      " [    0 35552]]\n",
      "Accuracy=0.5388217820281597\n",
      "Classification report for classifier Logistic Regression:\n",
      "             precision    recall  f1-score   support\n",
      "\n",
      "          0       0.00      0.00      0.00     30429\n",
      "          1       0.54      1.00      0.70     35552\n",
      "\n",
      "avg / total       0.29      0.54      0.38     65981\n",
      "\n",
      "\n",
      "Confusion matrix:\n",
      "[[    0 30429]\n",
      " [    0 35552]]\n",
      "Accuracy=0.5388217820281597\n",
      "Classification report for classifier Logistic Regression:\n",
      "             precision    recall  f1-score   support\n",
      "\n",
      "          0       0.00      0.00      0.00     30429\n",
      "          1       0.54      1.00      0.70     35552\n",
      "\n",
      "avg / total       0.29      0.54      0.38     65981\n",
      "\n",
      "\n",
      "Confusion matrix:\n",
      "[[    0 30429]\n",
      " [    0 35552]]\n",
      "Accuracy=0.5388217820281597\n",
      "Classification report for classifier Logistic Regression:\n",
      "             precision    recall  f1-score   support\n",
      "\n",
      "          0       0.00      0.00      0.00     30429\n",
      "          1       0.54      1.00      0.70     35552\n",
      "\n",
      "avg / total       0.29      0.54      0.38     65981\n",
      "\n",
      "\n",
      "Confusion matrix:\n",
      "[[    0 30429]\n",
      " [    0 35552]]\n",
      "Accuracy=0.5388217820281597\n",
      "Classification report for classifier Logistic Regression:\n",
      "             precision    recall  f1-score   support\n",
      "\n",
      "          0       0.00      0.00      0.00     30429\n",
      "          1       0.54      1.00      0.70     35552\n",
      "\n",
      "avg / total       0.29      0.54      0.38     65981\n",
      "\n",
      "\n",
      "Confusion matrix:\n",
      "[[    0 30429]\n",
      " [    0 35552]]\n",
      "Accuracy=0.5388217820281597\n",
      "Classification report for classifier Logistic Regression:\n",
      "             precision    recall  f1-score   support\n",
      "\n",
      "          0       0.00      0.00      0.00     30429\n",
      "          1       0.54      1.00      0.70     35552\n",
      "\n",
      "avg / total       0.29      0.54      0.38     65981\n",
      "\n",
      "\n",
      "Confusion matrix:\n",
      "[[    0 30429]\n",
      " [    0 35552]]\n",
      "Accuracy=0.5388217820281597\n",
      "Classification report for classifier Logistic Regression:\n",
      "             precision    recall  f1-score   support\n",
      "\n",
      "          0       0.00      0.00      0.00     30429\n",
      "          1       0.54      1.00      0.70     35552\n",
      "\n",
      "avg / total       0.29      0.54      0.38     65981\n",
      "\n",
      "\n",
      "Confusion matrix:\n",
      "[[    0 30429]\n",
      " [    0 35552]]\n",
      "Accuracy=0.5388217820281597\n",
      "Classification report for classifier Logistic Regression:\n",
      "             precision    recall  f1-score   support\n",
      "\n",
      "          0       0.00      0.00      0.00     30429\n",
      "          1       0.54      1.00      0.70     35552\n",
      "\n",
      "avg / total       0.29      0.54      0.38     65981\n",
      "\n",
      "\n",
      "Confusion matrix:\n",
      "[[    0 30429]\n",
      " [    0 35552]]\n",
      "Accuracy=0.5388217820281597\n",
      "Classification report for classifier Logistic Regression:\n",
      "             precision    recall  f1-score   support\n",
      "\n",
      "          0       0.00      0.00      0.00     30429\n",
      "          1       0.54      1.00      0.70     35552\n",
      "\n",
      "avg / total       0.29      0.54      0.38     65981\n",
      "\n",
      "\n",
      "Confusion matrix:\n",
      "[[    0 30429]\n",
      " [    0 35552]]\n",
      "Accuracy=0.5388217820281597\n",
      "Classification report for classifier Logistic Regression:\n",
      "             precision    recall  f1-score   support\n",
      "\n",
      "          0       0.00      0.00      0.00     30429\n",
      "          1       0.54      1.00      0.70     35552\n",
      "\n",
      "avg / total       0.29      0.54      0.38     65981\n",
      "\n",
      "\n",
      "Confusion matrix:\n",
      "[[    0 30429]\n",
      " [    0 35552]]\n",
      "Accuracy=0.5388217820281597\n",
      "Classification report for classifier Logistic Regression:\n",
      "             precision    recall  f1-score   support\n",
      "\n",
      "          0       0.00      0.00      0.00     30429\n",
      "          1       0.54      1.00      0.70     35552\n",
      "\n",
      "avg / total       0.29      0.54      0.38     65981\n",
      "\n",
      "\n",
      "Confusion matrix:\n",
      "[[    0 30429]\n",
      " [    0 35552]]\n",
      "Accuracy=0.5388217820281597\n",
      "Classification report for classifier Logistic Regression:\n",
      "             precision    recall  f1-score   support\n",
      "\n",
      "          0       0.00      0.00      0.00     30429\n",
      "          1       0.54      1.00      0.70     35552\n",
      "\n",
      "avg / total       0.29      0.54      0.38     65981\n",
      "\n",
      "\n",
      "Confusion matrix:\n",
      "[[    0 30429]\n",
      " [    0 35552]]\n",
      "Accuracy=0.5388217820281597\n",
      "Classification report for classifier Logistic Regression:\n",
      "             precision    recall  f1-score   support\n",
      "\n",
      "          0       0.00      0.00      0.00     30429\n",
      "          1       0.54      1.00      0.70     35552\n",
      "\n",
      "avg / total       0.29      0.54      0.38     65981\n",
      "\n",
      "\n",
      "Confusion matrix:\n",
      "[[    0 30429]\n",
      " [    0 35552]]\n",
      "Accuracy=0.5388217820281597\n",
      "Classification report for classifier Logistic Regression:\n",
      "             precision    recall  f1-score   support\n",
      "\n",
      "          0       0.00      0.00      0.00     30429\n",
      "          1       0.54      1.00      0.70     35552\n",
      "\n",
      "avg / total       0.29      0.54      0.38     65981\n",
      "\n",
      "\n",
      "Confusion matrix:\n",
      "[[    0 30429]\n",
      " [    0 35552]]\n"
     ]
    },
    {
     "name": "stdout",
     "output_type": "stream",
     "text": [
      "Accuracy=0.5388217820281597\n",
      "Classification report for classifier Logistic Regression:\n",
      "             precision    recall  f1-score   support\n",
      "\n",
      "          0       0.00      0.00      0.00     30429\n",
      "          1       0.54      1.00      0.70     35552\n",
      "\n",
      "avg / total       0.29      0.54      0.38     65981\n",
      "\n",
      "\n",
      "Confusion matrix:\n",
      "[[    0 30429]\n",
      " [    0 35552]]\n",
      "Accuracy=0.5388217820281597\n",
      "Classification report for classifier Logistic Regression:\n",
      "             precision    recall  f1-score   support\n",
      "\n",
      "          0       0.00      0.00      0.00     30429\n",
      "          1       0.54      1.00      0.70     35552\n",
      "\n",
      "avg / total       0.29      0.54      0.38     65981\n",
      "\n",
      "\n",
      "Confusion matrix:\n",
      "[[    0 30429]\n",
      " [    0 35552]]\n",
      "Accuracy=0.5388217820281597\n",
      "Classification report for classifier Logistic Regression:\n",
      "             precision    recall  f1-score   support\n",
      "\n",
      "          0       0.00      0.00      0.00     30429\n",
      "          1       0.54      1.00      0.70     35552\n",
      "\n",
      "avg / total       0.29      0.54      0.38     65981\n",
      "\n",
      "\n",
      "Confusion matrix:\n",
      "[[    0 30429]\n",
      " [    0 35552]]\n",
      "Accuracy=0.5388217820281597\n",
      "Classification report for classifier Logistic Regression:\n",
      "             precision    recall  f1-score   support\n",
      "\n",
      "          0       0.00      0.00      0.00     30429\n",
      "          1       0.54      1.00      0.70     35552\n",
      "\n",
      "avg / total       0.29      0.54      0.38     65981\n",
      "\n",
      "\n",
      "Confusion matrix:\n",
      "[[    0 30429]\n",
      " [    0 35552]]\n",
      "Accuracy=0.5388217820281597\n",
      "Classification report for classifier Logistic Regression:\n",
      "             precision    recall  f1-score   support\n",
      "\n",
      "          0       0.00      0.00      0.00     30429\n",
      "          1       0.54      1.00      0.70     35552\n",
      "\n",
      "avg / total       0.29      0.54      0.38     65981\n",
      "\n",
      "\n",
      "Confusion matrix:\n",
      "[[    0 30429]\n",
      " [    0 35552]]\n",
      "Accuracy=0.5388217820281597\n",
      "Classification report for classifier Logistic Regression:\n",
      "             precision    recall  f1-score   support\n",
      "\n",
      "          0       0.00      0.00      0.00     30429\n",
      "          1       0.54      1.00      0.70     35552\n",
      "\n",
      "avg / total       0.29      0.54      0.38     65981\n",
      "\n",
      "\n",
      "Confusion matrix:\n",
      "[[    0 30429]\n",
      " [    0 35552]]\n",
      "Accuracy=0.5388217820281597\n",
      "Classification report for classifier Logistic Regression:\n",
      "             precision    recall  f1-score   support\n",
      "\n",
      "          0       0.00      0.00      0.00     30429\n",
      "          1       0.54      1.00      0.70     35552\n",
      "\n",
      "avg / total       0.29      0.54      0.38     65981\n",
      "\n",
      "\n",
      "Confusion matrix:\n",
      "[[    0 30429]\n",
      " [    0 35552]]\n",
      "Accuracy=0.5388217820281597\n",
      "Classification report for classifier Logistic Regression:\n",
      "             precision    recall  f1-score   support\n",
      "\n",
      "          0       0.00      0.00      0.00     30429\n",
      "          1       0.54      1.00      0.70     35552\n",
      "\n",
      "avg / total       0.29      0.54      0.38     65981\n",
      "\n",
      "\n",
      "Confusion matrix:\n",
      "[[    0 30429]\n",
      " [    0 35552]]\n",
      "Accuracy=0.5388217820281597\n",
      "Classification report for classifier Logistic Regression:\n",
      "             precision    recall  f1-score   support\n",
      "\n",
      "          0       0.00      0.00      0.00     30429\n",
      "          1       0.54      1.00      0.70     35552\n",
      "\n",
      "avg / total       0.29      0.54      0.38     65981\n",
      "\n",
      "\n",
      "Confusion matrix:\n",
      "[[    0 30429]\n",
      " [    0 35552]]\n",
      "Accuracy=0.5388217820281597\n",
      "Classification report for classifier Logistic Regression:\n",
      "             precision    recall  f1-score   support\n",
      "\n",
      "          0       0.00      0.00      0.00     30429\n",
      "          1       0.54      1.00      0.70     35552\n",
      "\n",
      "avg / total       0.29      0.54      0.38     65981\n",
      "\n",
      "\n",
      "Confusion matrix:\n",
      "[[    0 30429]\n",
      " [    0 35552]]\n",
      "Accuracy=0.5388217820281597\n",
      "Classification report for classifier Logistic Regression:\n",
      "             precision    recall  f1-score   support\n",
      "\n",
      "          0       0.00      0.00      0.00     30429\n",
      "          1       0.54      1.00      0.70     35552\n",
      "\n",
      "avg / total       0.29      0.54      0.38     65981\n",
      "\n",
      "\n",
      "Confusion matrix:\n",
      "[[    0 30429]\n",
      " [    0 35552]]\n",
      "Accuracy=0.5388217820281597\n",
      "Classification report for classifier Logistic Regression:\n",
      "             precision    recall  f1-score   support\n",
      "\n",
      "          0       0.00      0.00      0.00     30429\n",
      "          1       0.54      1.00      0.70     35552\n",
      "\n",
      "avg / total       0.29      0.54      0.38     65981\n",
      "\n",
      "\n",
      "Confusion matrix:\n",
      "[[    0 30429]\n",
      " [    0 35552]]\n",
      "Accuracy=0.5388217820281597\n",
      "Classification report for classifier Logistic Regression:\n",
      "             precision    recall  f1-score   support\n",
      "\n",
      "          0       0.00      0.00      0.00     30429\n",
      "          1       0.54      1.00      0.70     35552\n",
      "\n",
      "avg / total       0.29      0.54      0.38     65981\n",
      "\n",
      "\n",
      "Confusion matrix:\n",
      "[[    0 30429]\n",
      " [    0 35552]]\n",
      "Accuracy=0.5388217820281597\n",
      "Classification report for classifier Logistic Regression:\n",
      "             precision    recall  f1-score   support\n",
      "\n",
      "          0       0.00      0.00      0.00     30429\n",
      "          1       0.54      1.00      0.70     35552\n",
      "\n",
      "avg / total       0.29      0.54      0.38     65981\n",
      "\n",
      "\n",
      "Confusion matrix:\n",
      "[[    0 30429]\n",
      " [    0 35552]]\n",
      "Accuracy=0.5388217820281597\n",
      "Classification report for classifier Logistic Regression:\n",
      "             precision    recall  f1-score   support\n",
      "\n",
      "          0       0.00      0.00      0.00     30429\n",
      "          1       0.54      1.00      0.70     35552\n",
      "\n",
      "avg / total       0.29      0.54      0.38     65981\n",
      "\n",
      "\n",
      "Confusion matrix:\n",
      "[[    0 30429]\n",
      " [    0 35552]]\n",
      "Accuracy=0.5388217820281597\n",
      "Classification report for classifier Logistic Regression:\n",
      "             precision    recall  f1-score   support\n",
      "\n",
      "          0       0.00      0.00      0.00     30429\n",
      "          1       0.54      1.00      0.70     35552\n",
      "\n",
      "avg / total       0.29      0.54      0.38     65981\n",
      "\n",
      "\n",
      "Confusion matrix:\n",
      "[[    0 30429]\n",
      " [    0 35552]]\n",
      "Accuracy=0.5388217820281597\n",
      "Classification report for classifier Logistic Regression:\n",
      "             precision    recall  f1-score   support\n",
      "\n",
      "          0       0.00      0.00      0.00     30429\n",
      "          1       0.54      1.00      0.70     35552\n",
      "\n",
      "avg / total       0.29      0.54      0.38     65981\n",
      "\n",
      "\n",
      "Confusion matrix:\n",
      "[[    0 30429]\n",
      " [    0 35552]]\n",
      "Accuracy=0.5388217820281597\n",
      "Classification report for classifier Logistic Regression:\n",
      "             precision    recall  f1-score   support\n",
      "\n",
      "          0       0.00      0.00      0.00     30429\n",
      "          1       0.54      1.00      0.70     35552\n",
      "\n",
      "avg / total       0.29      0.54      0.38     65981\n",
      "\n",
      "\n",
      "Confusion matrix:\n",
      "[[    0 30429]\n",
      " [    0 35552]]\n",
      "Accuracy=0.5388217820281597\n",
      "Classification report for classifier Logistic Regression:\n",
      "             precision    recall  f1-score   support\n",
      "\n",
      "          0       0.00      0.00      0.00     30429\n",
      "          1       0.54      1.00      0.70     35552\n",
      "\n",
      "avg / total       0.29      0.54      0.38     65981\n",
      "\n",
      "\n",
      "Confusion matrix:\n",
      "[[    0 30429]\n",
      " [    0 35552]]\n",
      "Accuracy=0.5388217820281597\n",
      "Classification report for classifier Logistic Regression:\n",
      "             precision    recall  f1-score   support\n",
      "\n",
      "          0       0.00      0.00      0.00     30429\n",
      "          1       0.54      1.00      0.70     35552\n",
      "\n",
      "avg / total       0.29      0.54      0.38     65981\n",
      "\n",
      "\n",
      "Confusion matrix:\n",
      "[[    0 30429]\n",
      " [    0 35552]]\n",
      "Accuracy=0.5388217820281597\n",
      "Classification report for classifier Logistic Regression:\n",
      "             precision    recall  f1-score   support\n",
      "\n",
      "          0       0.00      0.00      0.00     30429\n",
      "          1       0.54      1.00      0.70     35552\n",
      "\n",
      "avg / total       0.29      0.54      0.38     65981\n",
      "\n",
      "\n",
      "Confusion matrix:\n",
      "[[    0 30429]\n",
      " [    0 35552]]\n",
      "Accuracy=0.5388217820281597\n",
      "Classification report for classifier Logistic Regression:\n",
      "             precision    recall  f1-score   support\n",
      "\n",
      "          0       0.00      0.00      0.00     30429\n",
      "          1       0.54      1.00      0.70     35552\n",
      "\n",
      "avg / total       0.29      0.54      0.38     65981\n",
      "\n",
      "\n",
      "Confusion matrix:\n",
      "[[    0 30429]\n",
      " [    0 35552]]\n",
      "Accuracy=0.5388217820281597\n",
      "Classification report for classifier Logistic Regression:\n",
      "             precision    recall  f1-score   support\n",
      "\n",
      "          0       0.00      0.00      0.00     30429\n",
      "          1       0.54      1.00      0.70     35552\n",
      "\n",
      "avg / total       0.29      0.54      0.38     65981\n",
      "\n",
      "\n",
      "Confusion matrix:\n",
      "[[    0 30429]\n",
      " [    0 35552]]\n",
      "Accuracy=0.5388217820281597\n",
      "Classification report for classifier Logistic Regression:\n",
      "             precision    recall  f1-score   support\n",
      "\n",
      "          0       0.00      0.00      0.00     30429\n",
      "          1       0.54      1.00      0.70     35552\n",
      "\n",
      "avg / total       0.29      0.54      0.38     65981\n",
      "\n",
      "\n",
      "Confusion matrix:\n",
      "[[    0 30429]\n",
      " [    0 35552]]\n"
     ]
    },
    {
     "name": "stdout",
     "output_type": "stream",
     "text": [
      "Accuracy=0.5388217820281597\n",
      "Classification report for classifier Logistic Regression:\n",
      "             precision    recall  f1-score   support\n",
      "\n",
      "          0       0.00      0.00      0.00     30429\n",
      "          1       0.54      1.00      0.70     35552\n",
      "\n",
      "avg / total       0.29      0.54      0.38     65981\n",
      "\n",
      "\n",
      "Confusion matrix:\n",
      "[[    0 30429]\n",
      " [    0 35552]]\n",
      "Accuracy=0.5388217820281597\n",
      "Classification report for classifier Logistic Regression:\n",
      "             precision    recall  f1-score   support\n",
      "\n",
      "          0       0.00      0.00      0.00     30429\n",
      "          1       0.54      1.00      0.70     35552\n",
      "\n",
      "avg / total       0.29      0.54      0.38     65981\n",
      "\n",
      "\n",
      "Confusion matrix:\n",
      "[[    0 30429]\n",
      " [    0 35552]]\n",
      "Accuracy=0.5388217820281597\n",
      "Classification report for classifier Logistic Regression:\n",
      "             precision    recall  f1-score   support\n",
      "\n",
      "          0       0.00      0.00      0.00     30429\n",
      "          1       0.54      1.00      0.70     35552\n",
      "\n",
      "avg / total       0.29      0.54      0.38     65981\n",
      "\n",
      "\n",
      "Confusion matrix:\n",
      "[[    0 30429]\n",
      " [    0 35552]]\n",
      "Accuracy=0.5388217820281597\n",
      "Classification report for classifier Logistic Regression:\n",
      "             precision    recall  f1-score   support\n",
      "\n",
      "          0       0.00      0.00      0.00     30429\n",
      "          1       0.54      1.00      0.70     35552\n",
      "\n",
      "avg / total       0.29      0.54      0.38     65981\n",
      "\n",
      "\n",
      "Confusion matrix:\n",
      "[[    0 30429]\n",
      " [    0 35552]]\n",
      "Accuracy=0.5388217820281597\n",
      "Classification report for classifier Logistic Regression:\n",
      "             precision    recall  f1-score   support\n",
      "\n",
      "          0       0.00      0.00      0.00     30429\n",
      "          1       0.54      1.00      0.70     35552\n",
      "\n",
      "avg / total       0.29      0.54      0.38     65981\n",
      "\n",
      "\n",
      "Confusion matrix:\n",
      "[[    0 30429]\n",
      " [    0 35552]]\n",
      "Accuracy=0.5388217820281597\n",
      "Classification report for classifier Logistic Regression:\n",
      "             precision    recall  f1-score   support\n",
      "\n",
      "          0       0.00      0.00      0.00     30429\n",
      "          1       0.54      1.00      0.70     35552\n",
      "\n",
      "avg / total       0.29      0.54      0.38     65981\n",
      "\n",
      "\n",
      "Confusion matrix:\n",
      "[[    0 30429]\n",
      " [    0 35552]]\n",
      "Accuracy=0.5388217820281597\n",
      "Classification report for classifier Logistic Regression:\n",
      "             precision    recall  f1-score   support\n",
      "\n",
      "          0       0.00      0.00      0.00     30429\n",
      "          1       0.54      1.00      0.70     35552\n",
      "\n",
      "avg / total       0.29      0.54      0.38     65981\n",
      "\n",
      "\n",
      "Confusion matrix:\n",
      "[[    0 30429]\n",
      " [    0 35552]]\n",
      "Accuracy=0.5388217820281597\n",
      "Classification report for classifier Logistic Regression:\n",
      "             precision    recall  f1-score   support\n",
      "\n",
      "          0       0.00      0.00      0.00     30429\n",
      "          1       0.54      1.00      0.70     35552\n",
      "\n",
      "avg / total       0.29      0.54      0.38     65981\n",
      "\n",
      "\n",
      "Confusion matrix:\n",
      "[[    0 30429]\n",
      " [    0 35552]]\n",
      "Accuracy=0.5388217820281597\n",
      "Classification report for classifier Logistic Regression:\n",
      "             precision    recall  f1-score   support\n",
      "\n",
      "          0       0.00      0.00      0.00     30429\n",
      "          1       0.54      1.00      0.70     35552\n",
      "\n",
      "avg / total       0.29      0.54      0.38     65981\n",
      "\n",
      "\n",
      "Confusion matrix:\n",
      "[[    0 30429]\n",
      " [    0 35552]]\n",
      "Accuracy=0.5388217820281597\n",
      "Classification report for classifier Logistic Regression:\n",
      "             precision    recall  f1-score   support\n",
      "\n",
      "          0       0.00      0.00      0.00     30429\n",
      "          1       0.54      1.00      0.70     35552\n",
      "\n",
      "avg / total       0.29      0.54      0.38     65981\n",
      "\n",
      "\n",
      "Confusion matrix:\n",
      "[[    0 30429]\n",
      " [    0 35552]]\n",
      "Accuracy=0.5388217820281597\n",
      "Classification report for classifier Logistic Regression:\n",
      "             precision    recall  f1-score   support\n",
      "\n",
      "          0       0.00      0.00      0.00     30429\n",
      "          1       0.54      1.00      0.70     35552\n",
      "\n",
      "avg / total       0.29      0.54      0.38     65981\n",
      "\n",
      "\n",
      "Confusion matrix:\n",
      "[[    0 30429]\n",
      " [    0 35552]]\n",
      "Accuracy=0.5388217820281597\n",
      "Classification report for classifier Logistic Regression:\n",
      "             precision    recall  f1-score   support\n",
      "\n",
      "          0       0.00      0.00      0.00     30429\n",
      "          1       0.54      1.00      0.70     35552\n",
      "\n",
      "avg / total       0.29      0.54      0.38     65981\n",
      "\n",
      "\n",
      "Confusion matrix:\n",
      "[[    0 30429]\n",
      " [    0 35552]]\n",
      "Accuracy=0.5388217820281597\n",
      "Classification report for classifier Logistic Regression:\n",
      "             precision    recall  f1-score   support\n",
      "\n",
      "          0       0.00      0.00      0.00     30429\n",
      "          1       0.54      1.00      0.70     35552\n",
      "\n",
      "avg / total       0.29      0.54      0.38     65981\n",
      "\n",
      "\n",
      "Confusion matrix:\n",
      "[[    0 30429]\n",
      " [    0 35552]]\n",
      "Accuracy=0.5388217820281597\n",
      "Classification report for classifier Logistic Regression:\n",
      "             precision    recall  f1-score   support\n",
      "\n",
      "          0       0.00      0.00      0.00     30429\n",
      "          1       0.54      1.00      0.70     35552\n",
      "\n",
      "avg / total       0.29      0.54      0.38     65981\n",
      "\n",
      "\n",
      "Confusion matrix:\n",
      "[[    0 30429]\n",
      " [    0 35552]]\n",
      "Accuracy=0.5388217820281597\n",
      "Classification report for classifier Logistic Regression:\n",
      "             precision    recall  f1-score   support\n",
      "\n",
      "          0       0.00      0.00      0.00     30429\n",
      "          1       0.54      1.00      0.70     35552\n",
      "\n",
      "avg / total       0.29      0.54      0.38     65981\n",
      "\n",
      "\n",
      "Confusion matrix:\n",
      "[[    0 30429]\n",
      " [    0 35552]]\n",
      "Accuracy=0.5388217820281597\n",
      "Classification report for classifier Logistic Regression:\n",
      "             precision    recall  f1-score   support\n",
      "\n",
      "          0       0.00      0.00      0.00     30429\n",
      "          1       0.54      1.00      0.70     35552\n",
      "\n",
      "avg / total       0.29      0.54      0.38     65981\n",
      "\n",
      "\n",
      "Confusion matrix:\n",
      "[[    0 30429]\n",
      " [    0 35552]]\n",
      "Accuracy=0.5388217820281597\n",
      "Classification report for classifier Logistic Regression:\n",
      "             precision    recall  f1-score   support\n",
      "\n",
      "          0       0.00      0.00      0.00     30429\n",
      "          1       0.54      1.00      0.70     35552\n",
      "\n",
      "avg / total       0.29      0.54      0.38     65981\n",
      "\n",
      "\n",
      "Confusion matrix:\n",
      "[[    0 30429]\n",
      " [    0 35552]]\n",
      "Accuracy=0.5388217820281597\n",
      "Classification report for classifier Logistic Regression:\n",
      "             precision    recall  f1-score   support\n",
      "\n",
      "          0       0.00      0.00      0.00     30429\n",
      "          1       0.54      1.00      0.70     35552\n",
      "\n",
      "avg / total       0.29      0.54      0.38     65981\n",
      "\n",
      "\n",
      "Confusion matrix:\n",
      "[[    0 30429]\n",
      " [    0 35552]]\n",
      "Accuracy=0.5388217820281597\n",
      "Classification report for classifier Logistic Regression:\n",
      "             precision    recall  f1-score   support\n",
      "\n",
      "          0       0.00      0.00      0.00     30429\n",
      "          1       0.54      1.00      0.70     35552\n",
      "\n",
      "avg / total       0.29      0.54      0.38     65981\n",
      "\n",
      "\n",
      "Confusion matrix:\n",
      "[[    0 30429]\n",
      " [    0 35552]]\n",
      "Accuracy=0.5388217820281597\n",
      "Classification report for classifier Logistic Regression:\n",
      "             precision    recall  f1-score   support\n",
      "\n",
      "          0       0.00      0.00      0.00     30429\n",
      "          1       0.54      1.00      0.70     35552\n",
      "\n",
      "avg / total       0.29      0.54      0.38     65981\n",
      "\n",
      "\n",
      "Confusion matrix:\n",
      "[[    0 30429]\n",
      " [    0 35552]]\n",
      "Accuracy=0.5388217820281597\n",
      "Classification report for classifier Logistic Regression:\n",
      "             precision    recall  f1-score   support\n",
      "\n",
      "          0       0.00      0.00      0.00     30429\n",
      "          1       0.54      1.00      0.70     35552\n",
      "\n",
      "avg / total       0.29      0.54      0.38     65981\n",
      "\n",
      "\n",
      "Confusion matrix:\n",
      "[[    0 30429]\n",
      " [    0 35552]]\n",
      "Accuracy=0.5388217820281597\n",
      "Classification report for classifier Logistic Regression:\n",
      "             precision    recall  f1-score   support\n",
      "\n",
      "          0       0.00      0.00      0.00     30429\n",
      "          1       0.54      1.00      0.70     35552\n",
      "\n",
      "avg / total       0.29      0.54      0.38     65981\n",
      "\n",
      "\n",
      "Confusion matrix:\n",
      "[[    0 30429]\n",
      " [    0 35552]]\n",
      "Accuracy=0.5388217820281597\n",
      "Classification report for classifier Logistic Regression:\n",
      "             precision    recall  f1-score   support\n",
      "\n",
      "          0       0.00      0.00      0.00     30429\n",
      "          1       0.54      1.00      0.70     35552\n",
      "\n",
      "avg / total       0.29      0.54      0.38     65981\n",
      "\n",
      "\n",
      "Confusion matrix:\n",
      "[[    0 30429]\n",
      " [    0 35552]]\n",
      "Accuracy=0.5388217820281597\n",
      "Classification report for classifier Logistic Regression:\n",
      "             precision    recall  f1-score   support\n",
      "\n",
      "          0       0.00      0.00      0.00     30429\n",
      "          1       0.54      1.00      0.70     35552\n",
      "\n",
      "avg / total       0.29      0.54      0.38     65981\n",
      "\n",
      "\n",
      "Confusion matrix:\n",
      "[[    0 30429]\n",
      " [    0 35552]]\n"
     ]
    },
    {
     "name": "stdout",
     "output_type": "stream",
     "text": [
      "Accuracy=0.5388217820281597\n",
      "Classification report for classifier Logistic Regression:\n",
      "             precision    recall  f1-score   support\n",
      "\n",
      "          0       0.00      0.00      0.00     30429\n",
      "          1       0.54      1.00      0.70     35552\n",
      "\n",
      "avg / total       0.29      0.54      0.38     65981\n",
      "\n",
      "\n",
      "Confusion matrix:\n",
      "[[    0 30429]\n",
      " [    0 35552]]\n",
      "Accuracy=0.5388217820281597\n",
      "Classification report for classifier Logistic Regression:\n",
      "             precision    recall  f1-score   support\n",
      "\n",
      "          0       0.00      0.00      0.00     30429\n",
      "          1       0.54      1.00      0.70     35552\n",
      "\n",
      "avg / total       0.29      0.54      0.38     65981\n",
      "\n",
      "\n",
      "Confusion matrix:\n",
      "[[    0 30429]\n",
      " [    0 35552]]\n",
      "Accuracy=0.5388217820281597\n",
      "Classification report for classifier Logistic Regression:\n",
      "             precision    recall  f1-score   support\n",
      "\n",
      "          0       0.00      0.00      0.00     30429\n",
      "          1       0.54      1.00      0.70     35552\n",
      "\n",
      "avg / total       0.29      0.54      0.38     65981\n",
      "\n",
      "\n",
      "Confusion matrix:\n",
      "[[    0 30429]\n",
      " [    0 35552]]\n",
      "Accuracy=0.5388217820281597\n",
      "Classification report for classifier Logistic Regression:\n",
      "             precision    recall  f1-score   support\n",
      "\n",
      "          0       0.00      0.00      0.00     30429\n",
      "          1       0.54      1.00      0.70     35552\n",
      "\n",
      "avg / total       0.29      0.54      0.38     65981\n",
      "\n",
      "\n",
      "Confusion matrix:\n",
      "[[    0 30429]\n",
      " [    0 35552]]\n",
      "Accuracy=0.5388217820281597\n",
      "Classification report for classifier Logistic Regression:\n",
      "             precision    recall  f1-score   support\n",
      "\n",
      "          0       0.00      0.00      0.00     30429\n",
      "          1       0.54      1.00      0.70     35552\n",
      "\n",
      "avg / total       0.29      0.54      0.38     65981\n",
      "\n",
      "\n",
      "Confusion matrix:\n",
      "[[    0 30429]\n",
      " [    0 35552]]\n",
      "Accuracy=0.5388217820281597\n",
      "Classification report for classifier Logistic Regression:\n",
      "             precision    recall  f1-score   support\n",
      "\n",
      "          0       0.00      0.00      0.00     30429\n",
      "          1       0.54      1.00      0.70     35552\n",
      "\n",
      "avg / total       0.29      0.54      0.38     65981\n",
      "\n",
      "\n",
      "Confusion matrix:\n",
      "[[    0 30429]\n",
      " [    0 35552]]\n",
      "78.9 ms ± 672 µs per loop (mean ± std. dev. of 7 runs, 10 loops each)\n"
     ]
    }
   ],
   "source": [
    "%%timeit\n",
    "lr_expected = y_test\n",
    "lr_predicted = lr.predict(X_test)\n",
    "lr_cm = metrics.confusion_matrix(lr_expected, lr_predicted)\n",
    "\n",
    "print(\"Accuracy={}\".format(metrics.accuracy_score(lr_expected, lr_predicted)))\n",
    "print(\"Classification report for classifier %s:\\n%s\\n\"\n",
    "      % (\"Logistic Regression\", metrics.classification_report(lr_expected, lr_predicted)))\n",
    "print(\"Confusion matrix:\\n%s\" % lr_cm)"
   ]
  },
  {
   "cell_type": "code",
   "execution_count": 74,
   "metadata": {},
   "outputs": [
    {
     "name": "stdout",
     "output_type": "stream",
     "text": [
      "Confusion matrix, without normalization\n",
      "[[18831 11598]\n",
      " [ 7958 27594]]\n"
     ]
    },
    {
     "data": {
      "image/png": "[encoded data removed]",
      "text/plain": [
       "<Figure size 432x288 with 2 Axes>"
      ]
     },
     "metadata": {},
     "output_type": "display_data"
    }
   ],
   "source": [
    "plot_confusion_matrix(lr_cm,classes=[0,1],cmap=plt.cm.Blues)\n",
    "plt.show()"
   ]
  },
  {
   "cell_type": "markdown",
   "metadata": {},
   "source": [
    "### K-Nearest Neighbors"
   ]
  },
  {
   "cell_type": "code",
   "execution_count": 77,
   "metadata": {
    "collapsed": true
   },
   "outputs": [],
   "source": [
    "parameters = { \n",
    "    'n_neighbors':[5,7,9],\n",
    "    'weights':['uniform', 'distance']\n",
    "}\n",
    "knn = KNeighborsClassifier();\n",
    "grid_knn = GridSearchCV(estimator=knn, param_grid=parameters, verbose=0);\n",
    "grid_knn.fit(X_train, y_train);"
   ]
  },
  {
   "cell_type": "code",
   "execution_count": 78,
   "metadata": {},
   "outputs": [
    {
     "name": "stdout",
     "output_type": "stream",
     "text": [
      "{'n_neighbors': 5, 'weights': 'distance'}\n",
      "0.8260319336773744\n",
      "KNeighborsClassifier(algorithm='auto', leaf_size=30, metric='minkowski',\n",
      "           metric_params=None, n_jobs=1, n_neighbors=5, p=2,\n",
      "           weights='distance')\n"
     ]
    }
   ],
   "source": [
    "print(grid_knn.best_params_)\n",
    "print(grid_knn.best_score_)\n",
    "print(grid_knn.best_estimator_)\n",
    "# print(grid_lr.feature_importances_)"
   ]
  },
  {
   "cell_type": "markdown",
   "metadata": {},
   "source": [
    "{'n_neighbors': 5, 'weights': 'distance'}\n",
    "0.8260319336773744\n",
    "KNeighborsClassifier(algorithm='auto', leaf_size=30, metric='minkowski',\n",
    "           metric_params=None, n_jobs=1, n_neighbors=5, p=2,\n",
    "           weights='distance')"
   ]
  },
  {
   "cell_type": "code",
   "execution_count": 79,
   "metadata": {
    "collapsed": true
   },
   "outputs": [],
   "source": [
    "grid_knn.best_estimator_.fit(X_train, y_train);"
   ]
  },
  {
   "cell_type": "code",
   "execution_count": 93,
   "metadata": {},
   "outputs": [
    {
     "name": "stdout",
     "output_type": "stream",
     "text": [
      "391 ms ± 27.4 ms per loop (mean ± std. dev. of 7 runs, 1 loop each)\n"
     ]
    }
   ],
   "source": [
    "%%timeit\n",
    "knn = KNeighborsClassifier(algorithm='auto', leaf_size=30, metric='minkowski',\n",
    "           metric_params=None, n_jobs=1, n_neighbors=5, p=2,\n",
    "           weights='distance');\n",
    "knn.fit(X_train2,y_train)"
   ]
  },
  {
   "cell_type": "code",
   "execution_count": 85,
   "metadata": {},
   "outputs": [
    {
     "name": "stdout",
     "output_type": "stream",
     "text": [
      "Accuracy=0.5698610205968385\n",
      "Classification report for classifier Logistic Regression:\n",
      "             precision    recall  f1-score   support\n",
      "\n",
      "          0       0.52      0.91      0.66     30429\n",
      "          1       0.78      0.28      0.41     35552\n",
      "\n",
      "avg / total       0.66      0.57      0.53     65981\n",
      "\n",
      "\n",
      "Confusion matrix:\n",
      "[[27587  2842]\n",
      " [25539 10013]]\n",
      "Accuracy=0.5698610205968385\n",
      "Classification report for classifier Logistic Regression:\n",
      "             precision    recall  f1-score   support\n",
      "\n",
      "          0       0.52      0.91      0.66     30429\n",
      "          1       0.78      0.28      0.41     35552\n",
      "\n",
      "avg / total       0.66      0.57      0.53     65981\n",
      "\n",
      "\n",
      "Confusion matrix:\n",
      "[[27587  2842]\n",
      " [25539 10013]]\n",
      "Accuracy=0.5698610205968385\n",
      "Classification report for classifier Logistic Regression:\n",
      "             precision    recall  f1-score   support\n",
      "\n",
      "          0       0.52      0.91      0.66     30429\n",
      "          1       0.78      0.28      0.41     35552\n",
      "\n",
      "avg / total       0.66      0.57      0.53     65981\n",
      "\n",
      "\n",
      "Confusion matrix:\n",
      "[[27587  2842]\n",
      " [25539 10013]]\n",
      "Accuracy=0.5698610205968385\n",
      "Classification report for classifier Logistic Regression:\n",
      "             precision    recall  f1-score   support\n",
      "\n",
      "          0       0.52      0.91      0.66     30429\n",
      "          1       0.78      0.28      0.41     35552\n",
      "\n",
      "avg / total       0.66      0.57      0.53     65981\n",
      "\n",
      "\n",
      "Confusion matrix:\n",
      "[[27587  2842]\n",
      " [25539 10013]]\n",
      "Accuracy=0.5698610205968385\n",
      "Classification report for classifier Logistic Regression:\n",
      "             precision    recall  f1-score   support\n",
      "\n",
      "          0       0.52      0.91      0.66     30429\n",
      "          1       0.78      0.28      0.41     35552\n",
      "\n",
      "avg / total       0.66      0.57      0.53     65981\n",
      "\n",
      "\n",
      "Confusion matrix:\n",
      "[[27587  2842]\n",
      " [25539 10013]]\n",
      "Accuracy=0.5698610205968385\n",
      "Classification report for classifier Logistic Regression:\n",
      "             precision    recall  f1-score   support\n",
      "\n",
      "          0       0.52      0.91      0.66     30429\n",
      "          1       0.78      0.28      0.41     35552\n",
      "\n",
      "avg / total       0.66      0.57      0.53     65981\n",
      "\n",
      "\n",
      "Confusion matrix:\n",
      "[[27587  2842]\n",
      " [25539 10013]]\n",
      "Accuracy=0.5698610205968385\n",
      "Classification report for classifier Logistic Regression:\n",
      "             precision    recall  f1-score   support\n",
      "\n",
      "          0       0.52      0.91      0.66     30429\n",
      "          1       0.78      0.28      0.41     35552\n",
      "\n",
      "avg / total       0.66      0.57      0.53     65981\n",
      "\n",
      "\n",
      "Confusion matrix:\n",
      "[[27587  2842]\n",
      " [25539 10013]]\n",
      "Accuracy=0.5698610205968385\n",
      "Classification report for classifier Logistic Regression:\n",
      "             precision    recall  f1-score   support\n",
      "\n",
      "          0       0.52      0.91      0.66     30429\n",
      "          1       0.78      0.28      0.41     35552\n",
      "\n",
      "avg / total       0.66      0.57      0.53     65981\n",
      "\n",
      "\n",
      "Confusion matrix:\n",
      "[[27587  2842]\n",
      " [25539 10013]]\n",
      "2.16 s ± 50.5 ms per loop (mean ± std. dev. of 7 runs, 1 loop each)\n"
     ]
    }
   ],
   "source": [
    "%%timeit\n",
    "knn_expected = y_test\n",
    "knn_predicted = knn.predict(X_test)\n",
    "knn_cm = metrics.confusion_matrix(knn_expected, knn_predicted)\n",
    "\n",
    "print(\"Accuracy={}\".format(metrics.accuracy_score(knn_expected, knn_predicted)))\n",
    "print(\"Classification report for classifier %s:\\n%s\\n\"\n",
    "      % (\"Logistic Regression\", metrics.classification_report(knn_expected, knn_predicted)))\n",
    "print(\"Confusion matrix:\\n%s\" % knn_cm)"
   ]
  },
  {
   "cell_type": "code",
   "execution_count": 85,
   "metadata": {},
   "outputs": [
    {
     "name": "stdout",
     "output_type": "stream",
     "text": [
      "Confusion matrix, without normalization\n",
      "[[23406  7023]\n",
      " [ 3371 32181]]\n"
     ]
    },
    {
     "data": {
      "image/png": "[encoded data removed]",
      "text/plain": [
       "<Figure size 432x288 with 2 Axes>"
      ]
     },
     "metadata": {},
     "output_type": "display_data"
    }
   ],
   "source": [
    "plot_confusion_matrix(knn_cm,classes=[0,1],cmap=plt.cm.Reds)\n",
    "plt.show()"
   ]
  },
  {
   "cell_type": "markdown",
   "metadata": {},
   "source": [
    "### Decision Tree"
   ]
  },
  {
   "cell_type": "code",
   "execution_count": 84,
   "metadata": {},
   "outputs": [
    {
     "name": "stdout",
     "output_type": "stream",
     "text": [
      "Start learning at 2018-05-16 00:59:13.654172\n",
      "Stop learning 2018-05-16 01:01:56.116951\n",
      "Elapsed learning 0:02:42.462779\n"
     ]
    }
   ],
   "source": [
    "parameters = { \n",
    "    'max_features': ['auto', 'sqrt', 'log2'],\n",
    "    'min_samples_split': [2,4,5,6,7,8,9,10], \n",
    "    'min_samples_leaf':[2,4,6,8,10]\n",
    "}\n",
    "dt = DecisionTreeClassifier();\n",
    "dt_start_time = datetime.now()\n",
    "print('Start learning at {}'.format(str(dt_start_time)))\n",
    "grid_dt = GridSearchCV(estimator=dt, param_grid=parameters, verbose=0);\n",
    "grid_dt.fit(X_train, y_train);\n",
    "dt_end_time = datetime.now() \n",
    "print('Stop learning {}'.format(str(dt_end_time)))\n",
    "dt_elapsed_time= dt_end_time - dt_start_time\n",
    "print('Elapsed learning {}'.format(str(dt_elapsed_time)))"
   ]
  },
  {
   "cell_type": "code",
   "execution_count": 86,
   "metadata": {},
   "outputs": [
    {
     "name": "stdout",
     "output_type": "stream",
     "text": [
      "{'max_features': 'auto', 'min_samples_split': 7, 'min_samples_leaf': 10}\n",
      "0.8439008494934109\n",
      "DecisionTreeClassifier(class_weight=None, criterion='gini', max_depth=None,\n",
      "            max_features='auto', max_leaf_nodes=None,\n",
      "            min_impurity_decrease=0.0, min_impurity_split=None,\n",
      "            min_samples_leaf=10, min_samples_split=7,\n",
      "            min_weight_fraction_leaf=0.0, presort=False, random_state=None,\n",
      "            splitter='best')\n"
     ]
    }
   ],
   "source": [
    "print(grid_dt.best_params_)\n",
    "print(grid_dt.best_score_)\n",
    "print(grid_dt.best_estimator_)\n",
    "# print(grid_lr.feature_importances_)"
   ]
  },
  {
   "cell_type": "markdown",
   "metadata": {},
   "source": [
    "{'max_features': 'auto', 'min_samples_split': 7, 'min_samples_leaf': 10}\n",
    "0.8439008494934109\n",
    "DecisionTreeClassifier(class_weight=None, criterion='gini', max_depth=None,\n",
    "            max_features='auto', max_leaf_nodes=None,\n",
    "            min_impurity_decrease=0.0, min_impurity_split=None,\n",
    "            min_samples_leaf=10, min_samples_split=7,\n",
    "            min_weight_fraction_leaf=0.0, presort=False, random_state=None,\n",
    "            splitter='best')"
   ]
  },
  {
   "cell_type": "code",
   "execution_count": 87,
   "metadata": {
    "collapsed": true
   },
   "outputs": [],
   "source": [
    "grid_dt.best_estimator_.fit(X_train, y_train);"
   ]
  },
  {
   "cell_type": "code",
   "execution_count": 94,
   "metadata": {},
   "outputs": [
    {
     "name": "stdout",
     "output_type": "stream",
     "text": [
      "Start testing at 2018-05-16 02:03:44.378678\n",
      "Stop testing 2018-05-16 02:03:44.393305\n",
      "Elapsed testing 0:00:00.014627\n"
     ]
    }
   ],
   "source": [
    "dt_expected = y_test\n",
    "dt_start_time_test = datetime.now()\n",
    "print('Start testing at {}'.format(str(dt_start_time_test)))\n",
    "dt_predicted = grid_dt.best_estimator_.predict(X_test)\n",
    "dt_end_time_test = datetime.now() \n",
    "print('Stop testing {}'.format(str(dt_end_time_test)))\n",
    "dt_elapsed_time_test = dt_end_time_test - dt_start_time_test\n",
    "print('Elapsed testing {}'.format(str(dt_elapsed_time_test)))\n",
    "dt_cm = metrics.confusion_matrix(dt_expected, dt_predicted)"
   ]
  },
  {
   "cell_type": "code",
   "execution_count": 89,
   "metadata": {},
   "outputs": [
    {
     "name": "stdout",
     "output_type": "stream",
     "text": [
      "Accuracy=0.842318243131\n",
      "Classification report for classifier Logistic Regression:\n",
      "             precision    recall  f1-score   support\n",
      "\n",
      "          0       0.83      0.83      0.83     30429\n",
      "          1       0.86      0.85      0.85     35552\n",
      "\n",
      "avg / total       0.84      0.84      0.84     65981\n",
      "\n",
      "\n",
      "Confusion matrix:\n",
      "[[23406  7023]\n",
      " [ 3371 32181]]\n"
     ]
    }
   ],
   "source": [
    "print(\"Accuracy={}\".format(metrics.accuracy_score(dt_expected, dt_predicted)))\n",
    "print(\"Classification report for classifier %s:\\n%s\\n\"\n",
    "      % (\"Logistic Regression\", metrics.classification_report(dt_expected, dt_predicted)))\n",
    "print(\"Confusion matrix:\\n%s\" % dt_cm)"
   ]
  },
  {
   "cell_type": "code",
   "execution_count": 91,
   "metadata": {},
   "outputs": [
    {
     "name": "stdout",
     "output_type": "stream",
     "text": [
      "Confusion matrix, without normalization\n",
      "[[23406  7023]\n",
      " [ 3371 32181]]\n"
     ]
    },
    {
     "data": {
      "image/png": "[encoded data removed]",
      "text/plain": [
       "<Figure size 432x288 with 2 Axes>"
      ]
     },
     "metadata": {},
     "output_type": "display_data"
    }
   ],
   "source": [
    "plot_confusion_matrix(dt_cm,classes=[0,1],cmap=plt.cm.Greens)\n",
    "plt.show()"
   ]
  },
  {
   "cell_type": "markdown",
   "metadata": {},
   "source": [
    "### Random Forest"
   ]
  },
  {
   "cell_type": "code",
   "execution_count": 93,
   "metadata": {},
   "outputs": [
    {
     "name": "stdout",
     "output_type": "stream",
     "text": [
      "Start learning at 2018-05-16 01:08:49.611455\n",
      "Stop learning 2018-05-16 02:03:44.364974\n",
      "Elapsed learning 0:54:54.753519\n"
     ]
    }
   ],
   "source": [
    "parameters = { \n",
    "    'criterion':['gini','entropy'],\n",
    "    'n_estimators':[10,15,20,25,30],\n",
    "    'min_samples_leaf':[1,2,3],\n",
    "    'min_samples_split':[3,4,5,6,7]\n",
    "}\n",
    "rf = RandomForestClassifier();\n",
    "rf_start_time = datetime.now()\n",
    "print('Start learning at {}'.format(str(rf_start_time)))\n",
    "grid_rf = GridSearchCV(estimator=rf, param_grid=parameters, verbose=0);\n",
    "grid_rf.fit(X_train, y_train);\n",
    "rf_end_time = datetime.now() \n",
    "print('Stop learning {}'.format(str(rf_end_time)))\n",
    "rf_elapsed_time= rf_end_time - rf_start_time\n",
    "print('Elapsed learning {}'.format(str(rf_elapsed_time)))"
   ]
  },
  {
   "cell_type": "code",
   "execution_count": 96,
   "metadata": {},
   "outputs": [
    {
     "name": "stdout",
     "output_type": "stream",
     "text": [
      "{'min_samples_split': 3, 'n_estimators': 30, 'criterion': 'entropy', 'min_samples_leaf': 1}\n",
      "0.8902630322595312\n",
      "RandomForestClassifier(bootstrap=True, class_weight=None, criterion='entropy',\n",
      "            max_depth=None, max_features='auto', max_leaf_nodes=None,\n",
      "            min_impurity_decrease=0.0, min_impurity_split=None,\n",
      "            min_samples_leaf=1, min_samples_split=3,\n",
      "            min_weight_fraction_leaf=0.0, n_estimators=30, n_jobs=1,\n",
      "            oob_score=False, random_state=None, verbose=0,\n",
      "            warm_start=False)\n"
     ]
    }
   ],
   "source": [
    "print(grid_rf.best_params_)\n",
    "print(grid_rf.best_score_)\n",
    "print(grid_rf.best_estimator_)\n",
    "# print(grid_lr.feature_importances_)"
   ]
  },
  {
   "cell_type": "markdown",
   "metadata": {},
   "source": [
    "{'min_samples_split': 3, 'n_estimators': 30, 'criterion': 'entropy', 'min_samples_leaf': 1}\n",
    "0.8902630322595312\n",
    "RandomForestClassifier(bootstrap=True, class_weight=None, criterion='entropy',\n",
    "            max_depth=None, max_features='auto', max_leaf_nodes=None,\n",
    "            min_impurity_decrease=0.0, min_impurity_split=None,\n",
    "            min_samples_leaf=1, min_samples_split=3,\n",
    "            min_weight_fraction_leaf=0.0, n_estimators=30, n_jobs=1,\n",
    "            oob_score=False, random_state=None, verbose=0,\n",
    "            warm_start=False)"
   ]
  },
  {
   "cell_type": "code",
   "execution_count": 97,
   "metadata": {
    "collapsed": true
   },
   "outputs": [],
   "source": [
    "grid_rf.best_estimator_.fit(X_train, y_train);"
   ]
  },
  {
   "cell_type": "code",
   "execution_count": 98,
   "metadata": {},
   "outputs": [
    {
     "name": "stdout",
     "output_type": "stream",
     "text": [
      "Start testing at 2018-05-16 05:06:44.708352\n",
      "Stop testing 2018-05-16 05:06:45.218685\n",
      "Elapsed testing 0:00:00.510333\n"
     ]
    }
   ],
   "source": [
    "rf_expected = y_test\n",
    "rf_start_time_test = datetime.now()\n",
    "print('Start testing at {}'.format(str(rf_start_time_test)))\n",
    "rf_predicted = grid_rf.best_estimator_.predict(X_test)\n",
    "rf_end_time_test = datetime.now() \n",
    "print('Stop testing {}'.format(str(rf_end_time_test)))\n",
    "rf_elapsed_time_test = rf_end_time_test - rf_start_time_test\n",
    "print('Elapsed testing {}'.format(str(rf_elapsed_time_test)))\n",
    "rf_cm = metrics.confusion_matrix(rf_expected, rf_predicted)"
   ]
  },
  {
   "cell_type": "code",
   "execution_count": 99,
   "metadata": {},
   "outputs": [
    {
     "name": "stdout",
     "output_type": "stream",
     "text": [
      "Accuracy=0.899652930389\n",
      "Classification report for classifier Logistic Regression:\n",
      "             precision    recall  f1-score   support\n",
      "\n",
      "          0       0.91      0.87      0.89     30429\n",
      "          1       0.89      0.92      0.91     35552\n",
      "\n",
      "avg / total       0.90      0.90      0.90     65981\n",
      "\n",
      "\n",
      "Confusion matrix:\n",
      "[[26522  3907]\n",
      " [ 2714 32838]]\n"
     ]
    }
   ],
   "source": [
    "print(\"Accuracy={}\".format(metrics.accuracy_score(rf_expected, rf_predicted)))\n",
    "print(\"Classification report for classifier %s:\\n%s\\n\"\n",
    "      % (\"Logistic Regression\", metrics.classification_report(rf_expected, rf_predicted)))\n",
    "print(\"Confusion matrix:\\n%s\" % rf_cm)"
   ]
  },
  {
   "cell_type": "code",
   "execution_count": 100,
   "metadata": {},
   "outputs": [
    {
     "name": "stdout",
     "output_type": "stream",
     "text": [
      "Confusion matrix, without normalization\n",
      "[[26522  3907]\n",
      " [ 2714 32838]]\n"
     ]
    },
    {
     "data": {
      "image/png": "[encoded data removed]",
      "text/plain": [
       "<Figure size 432x288 with 2 Axes>"
      ]
     },
     "metadata": {},
     "output_type": "display_data"
    }
   ],
   "source": [
    "plot_confusion_matrix(rf_cm,classes=[0,1],cmap=plt.cm.Greens)\n",
    "plt.show()"
   ]
  },
  {
   "cell_type": "markdown",
   "metadata": {},
   "source": [
    "### XG-Boost"
   ]
  },
  {
   "cell_type": "code",
   "execution_count": 76,
   "metadata": {
    "collapsed": true
   },
   "outputs": [],
   "source": [
    "from xgboost import XGBClassifier"
   ]
  },
  {
   "cell_type": "code",
   "execution_count": 104,
   "metadata": {},
   "outputs": [
    {
     "name": "stdout",
     "output_type": "stream",
     "text": [
      "Start learning at 2018-05-16 05:24:07.454227\n"
     ]
    },
    {
     "name": "stderr",
     "output_type": "stream",
     "text": [
      "/Users/Babak/anaconda/lib/python2.7/site-packages/sklearn/preprocessing/label.py:151: DeprecationWarning:\n",
      "\n",
      "The truth value of an empty array is ambiguous. Returning False, but in future this will result in an error. Use `array.size > 0` to check that an array is not empty.\n",
      "\n",
      "/Users/Babak/anaconda/lib/python2.7/site-packages/sklearn/preprocessing/label.py:151: DeprecationWarning:\n",
      "\n",
      "The truth value of an empty array is ambiguous. Returning False, but in future this will result in an error. Use `array.size > 0` to check that an array is not empty.\n",
      "\n",
      "/Users/Babak/anaconda/lib/python2.7/site-packages/sklearn/preprocessing/label.py:151: DeprecationWarning:\n",
      "\n",
      "The truth value of an empty array is ambiguous. Returning False, but in future this will result in an error. Use `array.size > 0` to check that an array is not empty.\n",
      "\n",
      "/Users/Babak/anaconda/lib/python2.7/site-packages/sklearn/preprocessing/label.py:151: DeprecationWarning:\n",
      "\n",
      "The truth value of an empty array is ambiguous. Returning False, but in future this will result in an error. Use `array.size > 0` to check that an array is not empty.\n",
      "\n",
      "/Users/Babak/anaconda/lib/python2.7/site-packages/sklearn/preprocessing/label.py:151: DeprecationWarning:\n",
      "\n",
      "The truth value of an empty array is ambiguous. Returning False, but in future this will result in an error. Use `array.size > 0` to check that an array is not empty.\n",
      "\n",
      "/Users/Babak/anaconda/lib/python2.7/site-packages/sklearn/preprocessing/label.py:151: DeprecationWarning:\n",
      "\n",
      "The truth value of an empty array is ambiguous. Returning False, but in future this will result in an error. Use `array.size > 0` to check that an array is not empty.\n",
      "\n",
      "/Users/Babak/anaconda/lib/python2.7/site-packages/sklearn/preprocessing/label.py:151: DeprecationWarning:\n",
      "\n",
      "The truth value of an empty array is ambiguous. Returning False, but in future this will result in an error. Use `array.size > 0` to check that an array is not empty.\n",
      "\n",
      "/Users/Babak/anaconda/lib/python2.7/site-packages/sklearn/preprocessing/label.py:151: DeprecationWarning:\n",
      "\n",
      "The truth value of an empty array is ambiguous. Returning False, but in future this will result in an error. Use `array.size > 0` to check that an array is not empty.\n",
      "\n",
      "/Users/Babak/anaconda/lib/python2.7/site-packages/sklearn/preprocessing/label.py:151: DeprecationWarning:\n",
      "\n",
      "The truth value of an empty array is ambiguous. Returning False, but in future this will result in an error. Use `array.size > 0` to check that an array is not empty.\n",
      "\n",
      "/Users/Babak/anaconda/lib/python2.7/site-packages/sklearn/preprocessing/label.py:151: DeprecationWarning:\n",
      "\n",
      "The truth value of an empty array is ambiguous. Returning False, but in future this will result in an error. Use `array.size > 0` to check that an array is not empty.\n",
      "\n",
      "/Users/Babak/anaconda/lib/python2.7/site-packages/sklearn/preprocessing/label.py:151: DeprecationWarning:\n",
      "\n",
      "The truth value of an empty array is ambiguous. Returning False, but in future this will result in an error. Use `array.size > 0` to check that an array is not empty.\n",
      "\n",
      "/Users/Babak/anaconda/lib/python2.7/site-packages/sklearn/preprocessing/label.py:151: DeprecationWarning:\n",
      "\n",
      "The truth value of an empty array is ambiguous. Returning False, but in future this will result in an error. Use `array.size > 0` to check that an array is not empty.\n",
      "\n"
     ]
    },
    {
     "name": "stdout",
     "output_type": "stream",
     "text": [
      "Stop learning 2018-05-16 05:28:51.165714\n",
      "Elapsed learning 0:04:43.711487\n"
     ]
    }
   ],
   "source": [
    "parameters = { \n",
    "    'max_depth' : [10],\n",
    "    'n_estimators': [100,200],\n",
    "    'booster': ['gbtree']\n",
    "}\n",
    "xgb = XGBClassifier();\n",
    "xgb_start_time = datetime.now()\n",
    "print('Start learning at {}'.format(str(xgb_start_time)))\n",
    "grid_xgb = GridSearchCV(estimator=xgb, param_grid=parameters, verbose=0);\n",
    "grid_xgb.fit(X_train, y_train);\n",
    "xgb_end_time = datetime.now() \n",
    "print('Stop learning {}'.format(str(xgb_end_time)))\n",
    "xgb_elapsed_time= xgb_end_time - xgb_start_time\n",
    "print('Elapsed learning {}'.format(str(xgb_elapsed_time)))"
   ]
  },
  {
   "cell_type": "code",
   "execution_count": 105,
   "metadata": {},
   "outputs": [
    {
     "name": "stdout",
     "output_type": "stream",
     "text": [
      "{'n_estimators': 200, 'max_depth': 10, 'booster': 'gbtree'}\n",
      "0.9251559172785899\n",
      "XGBClassifier(base_score=0.5, booster='gbtree', colsample_bylevel=1,\n",
      "       colsample_bytree=1, gamma=0, learning_rate=0.1, max_delta_step=0,\n",
      "       max_depth=10, min_child_weight=1, missing=None, n_estimators=200,\n",
      "       n_jobs=1, nthread=None, objective='binary:logistic', random_state=0,\n",
      "       reg_alpha=0, reg_lambda=1, scale_pos_weight=1, seed=None,\n",
      "       silent=True, subsample=1)\n"
     ]
    }
   ],
   "source": [
    "print(grid_xgb.best_params_)\n",
    "print(grid_xgb.best_score_)\n",
    "print(grid_xgb.best_estimator_)\n",
    "# print(grid_xgb.feature_importances_)"
   ]
  },
  {
   "cell_type": "markdown",
   "metadata": {},
   "source": [
    "{'n_estimators': 200, 'max_depth': 10, 'booster': 'gbtree'}\n",
    "0.9251559172785899\n",
    "XGBClassifier(base_score=0.5, booster='gbtree', colsample_bylevel=1,\n",
    "       colsample_bytree=1, gamma=0, learning_rate=0.1, max_delta_step=0,\n",
    "       max_depth=10, min_child_weight=1, missing=None, n_estimators=200,\n",
    "       n_jobs=1, nthread=None, objective='binary:logistic', random_state=0,\n",
    "       reg_alpha=0, reg_lambda=1, scale_pos_weight=1, seed=None,\n",
    "       silent=True, subsample=1)"
   ]
  },
  {
   "cell_type": "code",
   "execution_count": 106,
   "metadata": {
    "collapsed": true
   },
   "outputs": [],
   "source": [
    "grid_xgb.best_estimator_.fit(X_train2, y_train2);"
   ]
  },
  {
   "cell_type": "code",
   "execution_count": 94,
   "metadata": {},
   "outputs": [
    {
     "name": "stderr",
     "output_type": "stream",
     "text": [
      "/Users/babak/anaconda3/envs/carnd-term1/lib/python3.5/site-packages/sklearn/preprocessing/label.py:151: DeprecationWarning: The truth value of an empty array is ambiguous. Returning False, but in future this will result in an error. Use `array.size > 0` to check that an array is not empty.\n",
      "  if diff:\n"
     ]
    }
   ],
   "source": [
    "xgb = XGBClassifier(n_estimators=200,max_depth=10,booster='gbtree');\n",
    "xgb.fit(X_train2, y_train);\n",
    "xgb_expected = y_test\n",
    "xgb_predicted = xgb.predict(X_test2)\n",
    "xgb_cm = metrics.confusion_matrix(xgb_expected, xgb_predicted)"
   ]
  },
  {
   "cell_type": "code",
   "execution_count": 99,
   "metadata": {},
   "outputs": [
    {
     "name": "stdout",
     "output_type": "stream",
     "text": [
      "Start testing at 2018-05-17 02:52:50.724690\n",
      "Stop testing 2018-05-17 02:52:52.038249\n",
      "Elapsed testing 0:00:01.313559\n"
     ]
    },
    {
     "name": "stderr",
     "output_type": "stream",
     "text": [
      "/Users/babak/anaconda3/envs/carnd-term1/lib/python3.5/site-packages/sklearn/preprocessing/label.py:151: DeprecationWarning: The truth value of an empty array is ambiguous. Returning False, but in future this will result in an error. Use `array.size > 0` to check that an array is not empty.\n",
      "  if diff:\n"
     ]
    }
   ],
   "source": [
    "xgb_expected = y_test\n",
    "xgb_start_time_test = datetime.now()\n",
    "print('Start testing at {}'.format(str(xgb_start_time_test)))\n",
    "xgb_predicted = xgb.predict(X_test2)\n",
    "xgb_end_time_test = datetime.now() \n",
    "print('Stop testing {}'.format(str(xgb_end_time_test)))\n",
    "xgb_elapsed_time_test = xgb_end_time_test - xgb_start_time_test\n",
    "print('Elapsed testing {}'.format(str(xgb_elapsed_time_test)))\n",
    "xgb_cm = metrics.confusion_matrix(xgb_expected, xgb_predicted)"
   ]
  },
  {
   "cell_type": "code",
   "execution_count": 119,
   "metadata": {},
   "outputs": [
    {
     "name": "stdout",
     "output_type": "stream",
     "text": [
      "Accuracy=0.9284794107394553\n",
      "Classification report for classifier XG-Boost:\n",
      "             precision    recall  f1-score   support\n",
      "\n",
      "          0       0.92      0.92      0.92     30429\n",
      "          1       0.93      0.94      0.93     35552\n",
      "\n",
      "avg / total       0.93      0.93      0.93     65981\n",
      "\n",
      "\n",
      "Confusion matrix:\n",
      "[[28004  2425]\n",
      " [ 2294 33258]]\n"
     ]
    }
   ],
   "source": [
    "print(\"Accuracy={}\".format(metrics.accuracy_score(xgb_expected, xgb_predicted)))\n",
    "print(\"Classification report for classifier %s:\\n%s\\n\"\n",
    "      % (\"XG-Boost\", metrics.classification_report(xgb_expected, xgb_predicted)))\n",
    "print(\"Confusion matrix:\\n%s\" % xgb_cm)"
   ]
  },
  {
   "cell_type": "code",
   "execution_count": 107,
   "metadata": {},
   "outputs": [
    {
     "name": "stdout",
     "output_type": "stream",
     "text": [
      "Normalized confusion matrix\n",
      "[[0.92030629 0.07969371]\n",
      " [0.0645252  0.9354748 ]]\n"
     ]
    },
    {
     "data": {
      "image/png": "[encoded data removed]",
      "text/plain": [
       "<Figure size 1800x1200 with 2 Axes>"
      ]
     },
     "metadata": {},
     "output_type": "display_data"
    }
   ],
   "source": [
    "plt.figure(dpi=300)\n",
    "plot_confusion_matrix(xgb_cm,classes=[0,1],cmap=plt.cm.Greys,normalize=True)\n",
    "plt.show()"
   ]
  },
  {
   "cell_type": "markdown",
   "metadata": {},
   "source": [
    "### Support Vector Machine"
   ]
  },
  {
   "cell_type": "code",
   "execution_count": null,
   "metadata": {},
   "outputs": [
    {
     "name": "stdout",
     "output_type": "stream",
     "text": [
      "Start learning at 2018-05-16 05:36:13.393840\n"
     ]
    }
   ],
   "source": [
    "# parameters = { \n",
    "#     'C': [6], \n",
    "#     'kernel': ['linear','rbf']\n",
    "# }\n",
    "# svm = SVC();\n",
    "# svm_start_time = datetime.now()\n",
    "# print('Start learning at {}'.format(str(svm_start_time)))\n",
    "# grid_svm = GridSearchCV(estimator=svm, param_grid=parameters, verbose=0);\n",
    "# grid_svm.fit(X_train, y_train);\n",
    "# svm_end_time = datetime.now() \n",
    "# print('Stop learning {}'.format(str(svm_end_time)))\n",
    "# svm_elapsed_time= svm_end_time - svm_start_time\n",
    "# print('Elapsed learning {}'.format(str(svm_elapsed_time)))"
   ]
  },
  {
   "cell_type": "code",
   "execution_count": null,
   "metadata": {
    "collapsed": true
   },
   "outputs": [],
   "source": [
    "print(grid_svm.best_params_)\n",
    "print(grid_svm.best_score_)\n",
    "print(grid_svm.best_estimator_)\n",
    "# print(grid_xgb.feature_importances_)"
   ]
  },
  {
   "cell_type": "code",
   "execution_count": null,
   "metadata": {
    "collapsed": true
   },
   "outputs": [],
   "source": [
    "grid_svm.best_estimator_.fit(X_train, y_train);"
   ]
  },
  {
   "cell_type": "code",
   "execution_count": null,
   "metadata": {
    "collapsed": true
   },
   "outputs": [],
   "source": [
    "svm_expected = y_test\n",
    "svm_start_time_test = datetime.now()\n",
    "print('Start testing at {}'.format(str(svm_start_time_test)))\n",
    "svm_predicted = grid_svm.best_estimator_.predict(X_test)\n",
    "svm_end_time_test = datetime.now() \n",
    "print('Stop testing {}'.format(str(svm_end_time_test)))\n",
    "svm_elapsed_time_test = svm_end_time_test - svm_start_time_test\n",
    "print('Elapsed testing {}'.format(str(svm_elapsed_time_test)))\n",
    "svm_cm = metrics.confusion_matrix(svm_expected, svm_predicted)"
   ]
  },
  {
   "cell_type": "code",
   "execution_count": null,
   "metadata": {
    "collapsed": true
   },
   "outputs": [],
   "source": [
    "print(\"Accuracy={}\".format(metrics.accuracy_score(svm_expected, svm_predicted)))\n",
    "print(\"Classification report for classifier %s:\\n%s\\n\"\n",
    "      % (\"Logistic Regression\", metrics.classification_report(svm_expected, svm_predicted)))\n",
    "print(\"Confusion matrix:\\n%s\" % svm_cm)"
   ]
  },
  {
   "cell_type": "code",
   "execution_count": null,
   "metadata": {
    "collapsed": true
   },
   "outputs": [],
   "source": [
    "plot_confusion_matrix(svm_cm,classes=[0,1],cmap=plt.cm.Greens)\n",
    "plt.show()"
   ]
  },
  {
   "cell_type": "markdown",
   "metadata": {},
   "source": [
    "### Gaussian Naive Bayes"
   ]
  },
  {
   "cell_type": "code",
   "execution_count": 78,
   "metadata": {},
   "outputs": [
    {
     "name": "stdout",
     "output_type": "stream",
     "text": [
      "Start learning at 2018-05-17 02:13:11.858868\n",
      "Stop learning 2018-05-17 02:13:11.948715\n",
      "Elapsed learning 0:00:00.089847\n"
     ]
    }
   ],
   "source": [
    "nb = GaussianNB();\n",
    "nb_start_time = datetime.now()\n",
    "print('Start learning at {}'.format(str(nb_start_time)))\n",
    "# grid_nb = GridSearchCV(estimator=nb, param_grid=parameters, verbose=0);\n",
    "nb.fit(X_train, y_train);\n",
    "nb_end_time = datetime.now() \n",
    "print('Stop learning {}'.format(str(nb_end_time)))\n",
    "nb_elapsed_time= nb_end_time - nb_start_time\n",
    "print('Elapsed learning {}'.format(str(nb_elapsed_time)))"
   ]
  },
  {
   "cell_type": "code",
   "execution_count": null,
   "metadata": {
    "collapsed": true
   },
   "outputs": [],
   "source": [
    "print(grid_svm.best_params_)\n",
    "print(grid_svm.best_score_)\n",
    "print(grid_svm.best_estimator_)\n",
    "# print(grid_xgb.feature_importances_)"
   ]
  },
  {
   "cell_type": "code",
   "execution_count": null,
   "metadata": {
    "collapsed": true
   },
   "outputs": [],
   "source": [
    "# grid_nb.best_estimator_.fit(X_train, y_train);"
   ]
  },
  {
   "cell_type": "code",
   "execution_count": 80,
   "metadata": {},
   "outputs": [
    {
     "name": "stdout",
     "output_type": "stream",
     "text": [
      "Start testing at 2018-05-17 02:14:08.795947\n",
      "Stop testing 2018-05-17 02:14:08.811983\n",
      "Elapsed testing 0:00:00.016036\n"
     ]
    }
   ],
   "source": [
    "nb_expected = y_test\n",
    "nb_start_time_test = datetime.now()\n",
    "print('Start testing at {}'.format(str(nb_start_time_test)))\n",
    "nb_predicted = nb.predict(X_test)\n",
    "nb_end_time_test = datetime.now() \n",
    "print('Stop testing {}'.format(str(nb_end_time_test)))\n",
    "nb_elapsed_time_test = nb_end_time_test - nb_start_time_test\n",
    "print('Elapsed testing {}'.format(str(nb_elapsed_time_test)))\n",
    "nb_cm = metrics.confusion_matrix(nb_expected, nb_predicted)"
   ]
  },
  {
   "cell_type": "code",
   "execution_count": 81,
   "metadata": {},
   "outputs": [
    {
     "name": "stdout",
     "output_type": "stream",
     "text": [
      "Accuracy=0.6807565814401115\n",
      "Classification report for classifier Logistic Regression:\n",
      "             precision    recall  f1-score   support\n",
      "\n",
      "          0       0.65      0.67      0.66     30429\n",
      "          1       0.71      0.69      0.70     35552\n",
      "\n",
      "avg / total       0.68      0.68      0.68     65981\n",
      "\n",
      "\n",
      "Confusion matrix:\n",
      "[[20476  9953]\n",
      " [11111 24441]]\n"
     ]
    }
   ],
   "source": [
    "print(\"Accuracy={}\".format(metrics.accuracy_score(nb_expected, nb_predicted)))\n",
    "print(\"Classification report for classifier %s:\\n%s\\n\"\n",
    "      % (\"Logistic Regression\", metrics.classification_report(nb_expected, nb_predicted)))\n",
    "print(\"Confusion matrix:\\n%s\" % nb_cm)"
   ]
  },
  {
   "cell_type": "code",
   "execution_count": null,
   "metadata": {
    "collapsed": true
   },
   "outputs": [],
   "source": [
    "plot_confusion_matrix(nb_cm,classes=[0,1],cmap=plt.cm.Greens)\n",
    "plt.show()"
   ]
  },
  {
   "cell_type": "markdown",
   "metadata": {
    "collapsed": true
   },
   "source": [
    "## 3. Testing"
   ]
  },
  {
   "cell_type": "code",
   "execution_count": null,
   "metadata": {
    "collapsed": true
   },
   "outputs": [],
   "source": [
    "Test = [16 5 41.876248 -87.653065 10 5]"
   ]
  },
  {
   "cell_type": "code",
   "execution_count": null,
   "metadata": {
    "collapsed": true
   },
   "outputs": [],
   "source": [
    "print(grid_xgb.best_estimator_.predict(X_test))"
   ]
  },
  {
   "cell_type": "code",
   "execution_count": null,
   "metadata": {
    "collapsed": true
   },
   "outputs": [],
   "source": [
    "Test = np.array([[ 21.        ,   0.        ,  42.0122934 , -87.69971411,\n",
    "        15.        ,   9.        ]])\n",
    "print(scaler.transform(Test))\n",
    "Test2 = np.array([[-0.50714446,  0.70064672,  1.33995114, -1.07622397, -1.12694646, -0.47388072]])\n",
    "scaler.transform(Test2)\n",
    "print(xgb.predict(Test2))\n",
    "print(xgb.predict_proba(Test2))"
   ]
  },
  {
   "cell_type": "code",
   "execution_count": 39,
   "metadata": {},
   "outputs": [
    {
     "name": "stdout",
     "output_type": "stream",
     "text": [
      "[[0.85368174 0.14631827]]\n"
     ]
    }
   ],
   "source": [
    "Test = np.array([[ 21.        ,   0.        ,  42.0122934 , -87.69971411,15.        ,   9.        ]])\n",
    "# print(xgb.predict(scaler.transform[Test]))\n",
    "print(xgb.predict_proba(scaler.transform(Test)))"
   ]
  },
  {
   "cell_type": "code",
   "execution_count": 33,
   "metadata": {
    "collapsed": true
   },
   "outputs": [],
   "source": [
    "pickle.dump(scaler, open('./scaler.pkl', 'wb'))\n",
    "pickle.dump(xgb, open('./xgboost.pkl', 'wb'))"
   ]
  },
  {
   "cell_type": "code",
   "execution_count": 37,
   "metadata": {},
   "outputs": [
    {
     "data": {
      "text/plain": [
       "StandardScaler(copy=True, with_mean=True, with_std=True)"
      ]
     },
     "execution_count": 37,
     "metadata": {},
     "output_type": "execute_result"
    }
   ],
   "source": [
    "pickle.load(open('./scaler.pkl', 'rb'))"
   ]
  },
  {
   "cell_type": "code",
   "execution_count": 38,
   "metadata": {},
   "outputs": [
    {
     "name": "stdout",
     "output_type": "stream",
     "text": [
      "/Users/babak/Desktop/Project3\r\n"
     ]
    }
   ],
   "source": [
    "!pwd"
   ]
  },
  {
   "cell_type": "code",
   "execution_count": 103,
   "metadata": {
    "collapsed": true
   },
   "outputs": [],
   "source": [
    "def plot_confusion_matrix(cm, classes,\n",
    "                          normalize=False,\n",
    "                          title='Arrest Confusion matrix',\n",
    "                          cmap=plt.cm.Greens):\n",
    "    \"\"\"\n",
    "    This function prints and plots the confusion matrix.\n",
    "    Normalization can be applied by setting `normalize=True`.\n",
    "    \"\"\"\n",
    "    if normalize:\n",
    "        cm = cm.astype('float') / cm.sum(axis=1)[:, np.newaxis]\n",
    "        print(\"Normalized confusion matrix\")\n",
    "    else:\n",
    "        print('Confusion matrix, without normalization')\n",
    "\n",
    "    print(cm)\n",
    "\n",
    "    plt.imshow(cm, interpolation='nearest', cmap=cmap)\n",
    "    plt.title(title)\n",
    "    plt.colorbar()\n",
    "    tick_marks = np.arange(len(classes))\n",
    "    plt.xticks(tick_marks, classes, rotation=45)\n",
    "    plt.yticks(tick_marks, classes)\n",
    "\n",
    "    fmt = '.2f' if normalize else 'd'\n",
    "    thresh = cm.max() / 2.\n",
    "    for i, j in itertools.product(range(cm.shape[0]), range(cm.shape[1])):\n",
    "        plt.text(j, i, format(cm[i, j], fmt),\n",
    "                 horizontalalignment=\"center\",\n",
    "                 color=\"white\" if cm[i, j] > thresh else \"black\")\n",
    "\n",
    "    plt.tight_layout()\n",
    "    plt.ylabel('True label')\n",
    "    plt.xlabel('Predicted label')"
   ]
  },
  {
   "cell_type": "code",
   "execution_count": null,
   "metadata": {
    "collapsed": true
   },
   "outputs": [],
   "source": []
  }
 ],
 "metadata": {
  "kernelspec": {
   "display_name": "Python 3",
   "language": "python",
   "name": "python3"
  },
  "language_info": {
   "codemirror_mode": {
    "name": "ipython",
    "version": 3
   },
   "file_extension": ".py",
   "mimetype": "text/x-python",
   "name": "python",
   "nbconvert_exporter": "python",
   "pygments_lexer": "ipython3",
   "version": "3.6.5"
  }
 },
 "nbformat": 4,
 "nbformat_minor": 2
}
